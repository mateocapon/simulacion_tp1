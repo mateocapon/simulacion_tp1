{
 "cells": [
  {
   "cell_type": "markdown",
   "metadata": {
    "colab_type": "text",
    "id": "view-in-github"
   },
   "source": [
    "<a href=\"https://colab.research.google.com/github/mateocapon/simulacion_tp1/blob/main/Ejercicio%205.ipynb\" target=\"_parent\"><img src=\"https://colab.research.google.com/assets/colab-badge.svg\" alt=\"Open In Colab\"/></a>"
   ]
  },
  {
   "cell_type": "markdown",
   "metadata": {
    "id": "TN7rH0dYTRJE"
   },
   "source": [
    "# Ejercicio 5"
   ]
  },
  {
   "cell_type": "code",
   "execution_count": 1,
   "metadata": {
    "id": "Zbqwf23xtGnL"
   },
   "outputs": [],
   "source": [
    "import scipy\n",
    "import matplotlib.pyplot as plt\n",
    "import numpy as np\n",
    "import random\n",
    "import seaborn as sns\n",
    "from scipy.stats import chi2\n",
    "\n",
    "\n",
    "\n",
    "modulo = 2**32\n",
    "multiplicador = 1013904223\n",
    "incremento = 1664525\n",
    "semilla = int((101503+103856+104258+102995)/4)\n",
    "\n",
    "def generarRandomNormalizada(n):\n",
    "    x = semilla\n",
    "    result = []\n",
    "    for i in range(n):\n",
    "        result.append(x/modulo)\n",
    "        x = (x * multiplicador + incremento) % modulo\n",
    "    return result\n",
    "\n",
    "N = 100000"
   ]
  },
  {
   "cell_type": "code",
   "execution_count": 2,
   "metadata": {
    "id": "wXaCJvgstVzb"
   },
   "outputs": [],
   "source": [
    "x = generarRandomNormalizada(N)\n",
    "\n",
    "pA = 0.1\n",
    "pB = 0.5\n",
    "pC = 0.3\n",
    "pD = 0.1\n",
    "\n",
    "A = []\n",
    "B = []\n",
    "C = []\n",
    "D = []\n",
    "\n",
    "for i in x:\n",
    "    if i <= pA:\n",
    "        A.append(i)\n",
    "    elif i <= pA+pB:\n",
    "        B.append(i)\n",
    "    elif i <= pA+pB+pC:\n",
    "        C.append(i)\n",
    "    else:\n",
    "        D.append(i)"
   ]
  },
  {
   "cell_type": "code",
   "execution_count": 3,
   "metadata": {
    "id": "JKQN_DMouh1F"
   },
   "outputs": [],
   "source": [
    "Y = [len(A)/N,len(B)/N,len(C)/N,len(D)/N]\n",
    "\n",
    "X = [\"A\",\"B\",\"C\",\"D\"]"
   ]
  },
  {
   "cell_type": "code",
   "execution_count": 4,
   "metadata": {
    "colab": {
     "base_uri": "https://localhost:8080/",
     "height": 502
    },
    "id": "cRYA3sTYuxcX",
    "outputId": "49791800-ebea-43ec-eaea-4300c099287b"
   },
   "outputs": [
    {
     "data": {
      "text/plain": [
       "<matplotlib.axes._subplots.AxesSubplot at 0x7f755b520588>"
      ]
     },
     "execution_count": 4,
     "metadata": {
      "tags": []
     },
     "output_type": "execute_result"
    },
    {
     "data": {
      "image/png": "[encoded data removed]",
      "text/plain": [
       "<Figure size 1080x576 with 1 Axes>"
      ]
     },
     "metadata": {
      "needs_background": "light",
      "tags": []
     },
     "output_type": "display_data"
    }
   ],
   "source": [
    "plt.figure(figsize=(15, 8))\n",
    "\n",
    "sns.set_theme()\n",
    "\n",
    "sns.barplot( x=X , y=Y )"
   ]
  },
  {
   "cell_type": "code",
   "execution_count": 5,
   "metadata": {
    "id": "W4o-g4HIvQXu"
   },
   "outputs": [],
   "source": [
    "import pandas as pd\n",
    "\n",
    "\n",
    "df = [A,B,C,D]\n",
    "\n",
    "df = pd.DataFrame(df).T\n",
    "\n",
    "df.columns = [\"A\",\"B\",\"C\",\"D\"]"
   ]
  },
  {
   "cell_type": "code",
   "execution_count": 6,
   "metadata": {
    "colab": {
     "base_uri": "https://localhost:8080/",
     "height": 502
    },
    "id": "MmVVuVbUyFDI",
    "outputId": "57638333-98f0-4959-c9cd-2e94275a8397"
   },
   "outputs": [
    {
     "data": {
      "text/plain": [
       "<matplotlib.axes._subplots.AxesSubplot at 0x7f7542614eb8>"
      ]
     },
     "execution_count": 6,
     "metadata": {
      "tags": []
     },
     "output_type": "execute_result"
    },
    {
     "data": {
      "image/png": "[encoded data removed]",
      "text/plain": [
       "<Figure size 1080x576 with 1 Axes>"
      ]
     },
     "metadata": {
      "tags": []
     },
     "output_type": "display_data"
    }
   ],
   "source": [
    "plt.figure(figsize=(15, 8))\n",
    "\n",
    "sns.histplot( data=df, alpha= 0.65, stat=\"count\")"
   ]
  },
  {
   "cell_type": "markdown",
   "metadata": {
    "id": "vNqBnXYjnk2K"
   },
   "source": [
    "## Ejercicio 5.d\n",
    "\n",
    "Realizaremos un test de frecuencias para comprobar que los números generados se distribuyan siguiendo la función de probabilidad esperada.\n",
    "\n",
    "\n",
    "Calculamos las frecuencias esperadas realizando:\n",
    "\n",
    "\n",
    "$$ f_{i}e = N * p_{i}   $$\n",
    "\n",
    "$$ i \\to A,B,C,D $$\n",
    " \n",
    "\n",
    "donde $f_{i}$ es nuestra frecuencia esperada.\n",
    "\n",
    "En cuanto a nuestras frecuencias obtenidas, lo que haremos es calcular el largo de cada lista generada por el algoritmo de los puntos anteriores."
   ]
  },
  {
   "cell_type": "code",
   "execution_count": 7,
   "metadata": {
    "colab": {
     "base_uri": "https://localhost:8080/"
    },
    "id": "3rzpT5PVy942",
    "outputId": "559f56cb-c7cd-4c8f-f8d3-b1d01b8ee094"
   },
   "outputs": [
    {
     "name": "stdout",
     "output_type": "stream",
     "text": [
      "[10000.0, 50000.0, 30000.0, 10000.0]\n",
      "[10019, 49993, 29932, 10056]\n"
     ]
    }
   ],
   "source": [
    "fAe = N * pA\n",
    "fBe = N * pB\n",
    "fCe = N * pC\n",
    "fDe = N * pD\n",
    "\n",
    "frecuencias_obtenidas = [ len(A), len(B), len(C), len(D) ]\n",
    "frecuencias_esperadas = [ fAe, fBe, fCe, fDe ]\n",
    "\n",
    "print(frecuencias_esperadas)\n",
    "print(frecuencias_obtenidas)"
   ]
  },
  {
   "cell_type": "markdown",
   "metadata": {
    "id": "NzQ4w6F6w0JQ"
   },
   "source": [
    "Vemos el limite superior de nuestro test, donde nuestro estimador es:\n",
    "\n",
    "\n",
    "$$ D2 = \\sum_{i=0}^{3}\\frac{(f_{i}^{Obtenida}-f_{i}^{Esperada})^{2}} {f_{i}^{Esperada}} $$"
   ]
  },
  {
   "cell_type": "code",
   "execution_count": 8,
   "metadata": {
    "id": "Ria4xoSOn15_"
   },
   "outputs": [],
   "source": [
    "D2 = sum( ( (frecuencias_obtenidas[i] - frecuencias_esperadas[i])**2 / frecuencias_esperadas[i]) for i in range(len(frecuencias_esperadas) ) )\n",
    "\n",
    "grados = len(df) - 1\n",
    "alpha = 0.99\n",
    "\n",
    "limiteSuperior = chi2.ppf( alpha, df=grados )"
   ]
  },
  {
   "cell_type": "code",
   "execution_count": 9,
   "metadata": {
    "colab": {
     "base_uri": "https://localhost:8080/"
    },
    "id": "aMEUCCfwqTxr",
    "outputId": "57e785d3-e68b-476b-f08e-9d35cb7d715f"
   },
   "outputs": [
    {
     "name": "stdout",
     "output_type": "stream",
     "text": [
      "El test acepta la hipótesis nula.\n"
     ]
    }
   ],
   "source": [
    "if D2 <= limiteSuperior:\n",
    "    print(\"El test acepta la hipótesis nula.\")\n",
    "else:\n",
    "    print(\"El test rechaza la hipótesis nula\")"
   ]
  }
 ],
 "metadata": {
  "colab": {
   "authorship_tag": "ABX9TyMx354AS3AKym0eFkA3j57E",
   "include_colab_link": true,
   "name": "Ejercicio 5",
   "provenance": []
  },
  "kernelspec": {
   "display_name": "Python 3",
   "language": "python",
   "name": "python3"
  },
  "language_info": {
   "codemirror_mode": {
    "name": "ipython",
    "version": 3
   },
   "file_extension": ".py",
   "mimetype": "text/x-python",
   "name": "python",
   "nbconvert_exporter": "python",
   "pygments_lexer": "ipython3",
   "version": "3.8.5"
  }
 },
 "nbformat": 4,
 "nbformat_minor": 1
}
