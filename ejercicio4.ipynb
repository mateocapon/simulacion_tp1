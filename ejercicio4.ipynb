{
 "cells": [
  {
   "cell_type": "code",
   "metadata": {
    "collapsed": true,
    "pycharm": {
     "name": "#%%\n"
    }
   },
   "source": [
    "import scipy\n",
    "import matplotlib.pyplot as plt\n",
    "import numpy as np\n",
    "import random\n",
    "import seaborn as sns"
   ],
   "execution_count": null,
   "outputs": []
  },
  {
   "cell_type": "markdown",
   "source": [
    "# Ejercicio 4"
   ],
   "metadata": {
    "collapsed": false,
    "pycharm": {
     "name": "#%% md\n"
    }
   }
  },
  {
   "cell_type": "markdown",
   "source": [
    "## Ejercicio 4.a\n",
    "\n",
    "La funcion de densidad viene dada por:\n",
    "\n",
    "$$f_{X}(x)$$ = \\begin{equation}\n",
    "\\left\\{\n",
    "  \\begin{aligned}\n",
    "    0 &\\, & \\mbox{si } \\ x \\leq 1 \\\\\n",
    "    \\frac{1}{9}(x - 1) &\\, & \\mbox{si } \\ 1 < x \\leq 2 \\\\\n",
    "    \\frac{1}{9} &\\, & \\mbox{si } \\ 2 < x \\leq 5 \\\\\n",
    "    \\frac{2}{45}\\,x&-\\frac{1}{9}& \\mbox{si } \\ 5 < x \\leq 7 \\\\\n",
    "    \\frac{-1}{15}\\,x&+\\frac{10}{15}& \\mbox{si } \\ 7 < x \\leq 10 \\\\\n",
    "    0 &\\, & \\mbox{si } \\ x \\geq 10 \\\\\n",
    "  \\end{aligned}\n",
    "  \\right.\n",
    "\\end{equation}\n",
    "\n",
    "la cual es una funcion de densidad, ya que la integral bajo su curva:\n",
    "\n",
    "$\\int_{-\\infty}^{\\infty} f_{X}(x) \\,dx =\n",
    " \\frac{1}{9}.\\frac{1}{2} + 3.\\frac{1}{9} +(\\frac{1}{9} + \\frac{1}{5}).\\frac{2}{2} + \\frac{1}{5}.\\frac{3}{2} = 1$"
   ],
   "metadata": {
    "collapsed": false
   }
  },
  {
   "cell_type": "markdown",
   "source": [
    "## Ejercicio 4.b\n",
    "La funcion de distribucion de $X$ viene dada por:\n",
    "\n",
    "$$F_{X}(x)$$ = $\\int_{-\\infty}^{x} f_{X}(x) \\,dx $\n",
    "\n",
    "Realizando las operaciones pertinentes, obtuvimos:\n",
    "\n",
    "$$F_{X}(x)$$ = \\begin{equation}\n",
    "\\left\\{\n",
    "  \\begin{aligned}\n",
    "    0 &\\, & \\mbox{si } \\ x \\leq 1 \\\\\n",
    "    \\frac{(x-1)^{2}}{18} &\\, & \\mbox{si } \\ 1 < x \\leq 2 \\\\\n",
    "    \\frac{1}{18}+\\frac{1}{9}(x-2) &\\, & \\mbox{si } \\ 2 < x \\leq 5 \\\\\n",
    "    \\frac{(x-5)x}{45}&& \\mbox{si } \\ 5 < x \\leq 7 \\\\\n",
    "    \\frac{-(x-10)^{2}}{30}+1&& \\mbox{si } \\ 7 < x \\leq 10 \\\\\n",
    "    1 &\\, & \\mbox{si } \\ x \\geq 10 \\\\\n",
    "  \\end{aligned}\n",
    "  \\right.\n",
    "\\end{equation}"
   ],
   "metadata": {
    "collapsed": false
   }
  }
 ],
 "metadata": {
  "kernelspec": {
   "name": "pycharm-afc0bbfb",
   "language": "python",
   "display_name": "PyCharm (tp1)"
  },
  "language_info": {
   "codemirror_mode": {
    "name": "ipython",
    "version": 2
   },
   "file_extension": ".py",
   "mimetype": "text/x-python",
   "name": "python",
   "nbconvert_exporter": "python",
   "pygments_lexer": "ipython2",
   "version": "2.7.6"
  }
 },
 "nbformat": 4,
 "nbformat_minor": 0
}