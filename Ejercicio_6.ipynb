{
  "nbformat": 4,
  "nbformat_minor": 0,
  "metadata": {
    "colab": {
      "name": "Ejercicio 6.ipynb",
      "provenance": [],
      "collapsed_sections": [],
      "authorship_tag": "ABX9TyOXIbvsSluNNUCKwjoe7WPd",
      "include_colab_link": true
    },
    "kernelspec": {
      "name": "python3",
      "display_name": "Python 3"
    }
  },
  "cells": [
    {
      "cell_type": "markdown",
      "metadata": {
        "id": "view-in-github",
        "colab_type": "text"
      },
      "source": [
        "<a href=\"https://colab.research.google.com/github/mateocapon/simulacion_tp1/blob/main/Ejercicio_6.ipynb\" target=\"_parent\"><img src=\"https://colab.research.google.com/assets/colab-badge.svg\" alt=\"Open In Colab\"/></a>"
      ]
    },
    {
      "cell_type": "markdown",
      "metadata": {
        "id": "TXK-xH1B2f8Z"
      },
      "source": [
        "# Ejercicio 6"
      ]
    },
    {
      "cell_type": "markdown",
      "metadata": {
        "id": "qGDtkbMcE5Hb"
      },
      "source": [
        "##Ejercicio 6 a)"
      ]
    },
    {
      "cell_type": "markdown",
      "metadata": {
        "id": "orumSewIgMDb"
      },
      "source": [
        "###Distribucion Normal (10, 2)"
      ]
    },
    {
      "cell_type": "code",
      "metadata": {
        "id": "B5dSZxB9BwT4",
        "colab": {
          "base_uri": "https://localhost:8080/",
          "height": 641
        },
        "outputId": "99e19871-9c4e-4f1f-80f5-1f5ed33cdec4"
      },
      "source": [
        "import numpy as np\n",
        "import matplotlib.pyplot as plt\n",
        "N=100000\n",
        "\n",
        "U1=np.random.rand(N)\n",
        "U2=np.random.rand(N)\n",
        "S=np.random.rand(N)\n",
        "X=[]\n",
        "X11=[]\n",
        "\n",
        "def f1(u):\n",
        " return -1*np.log(U1[i])\n",
        "\n",
        "def f2(x):\n",
        " return np.exp(-1/2 * (x-1)**2 ) \n",
        "\n",
        "def f3(x,m,v):\n",
        "  return x*np.sqrt(v)+m\n",
        "\n",
        "for i in range (N):\n",
        "  X1=f1(U1[i])\n",
        "  if (U2[i] <=f2(X1)):\n",
        "    X11.append(X1)\n",
        "    if S[i] <= 0.5:\n",
        "      X.append(X1)\n",
        "    else:\n",
        "       X.append(-1*X1)\n",
        " \n",
        "\n",
        "plt.hist(X11,'sturges',color='orange',density= True)\n",
        "plt.title('Histograma de X1')\n",
        "plt.xlabel ('X1')\n",
        "plt.show()\n",
        "print ('Media: ',np.mean(X))\n",
        "print ('Varianza: ',np.var(X))\n",
        "\n",
        "#Distribucion Normal (10, 2)\n",
        "\n",
        "b = 10\n",
        "c = 2**2\n",
        "\n",
        "Z = []\n",
        "for i in X:\n",
        "  Z.append (f3(i,b,c))\n",
        "\n",
        "plt.hist( Z,'sturges',density= True)\n",
        "plt.title('Histograma de X')\n",
        "plt.xlabel ('X')\n",
        "plt.show()\n",
        "print ('Media: ',np.mean(Z))\n",
        "print ('Varianza: ',np.var(Z))\n"
      ],
      "execution_count": 1,
      "outputs": [
        {
          "output_type": "display_data",
          "data": {
            "image/png": "[encoded data removed]",
            "text/plain": [
              "<Figure size 432x288 with 1 Axes>"
            ]
          },
          "metadata": {
            "tags": [],
            "needs_background": "light"
          }
        },
        {
          "output_type": "stream",
          "text": [
            "Media:  -0.0008364730306044582\n",
            "Varianza:  1.0000144610725619\n"
          ],
          "name": "stdout"
        },
        {
          "output_type": "display_data",
          "data": {
            "image/png": "[encoded data removed]",
            "text/plain": [
              "<Figure size 432x288 with 1 Axes>"
            ]
          },
          "metadata": {
            "tags": [],
            "needs_background": "light"
          }
        },
        {
          "output_type": "stream",
          "text": [
            "Media:  9.998327053938791\n",
            "Varianza:  4.0000578442902475\n"
          ],
          "name": "stdout"
        }
      ]
    },
    {
      "cell_type": "markdown",
      "metadata": {
        "id": "QXPuXGT2gUEB"
      },
      "source": [
        "###Distribucion Normal (20, 15)"
      ]
    },
    {
      "cell_type": "code",
      "metadata": {
        "id": "uGEY-Rh_fcYS",
        "colab": {
          "base_uri": "https://localhost:8080/",
          "height": 641
        },
        "outputId": "93ab1089-cb5a-4d17-c031-df208fe359b6"
      },
      "source": [
        "import numpy as np\n",
        "import matplotlib.pyplot as plt\n",
        "N=100000\n",
        "\n",
        "U3=np.random.rand(N)\n",
        "U4=np.random.rand(N)\n",
        "S=np.random.rand(N)\n",
        "Y=[]\n",
        "Y11=[]\n",
        "\n",
        "def f4(u):\n",
        " return -1*np.log(U3[i])\n",
        "\n",
        "def f5(y):\n",
        " return np.exp(-1/2 * (y-1)**2 ) \n",
        "\n",
        "def f6(y,m,v):\n",
        "  return y*np.sqrt(v)+m\n",
        "\n",
        "for i in range (N):\n",
        "  Y1=f4(U3[i])\n",
        "  if (U4[i] <=f5(Y1)):\n",
        "    Y11.append(Y1)\n",
        "    if S[i] <= 0.5:\n",
        "      Y.append(Y1)\n",
        "    else:\n",
        "       Y.append(-1*Y1)\n",
        " \n",
        "\n",
        "plt.hist(X11,'sturges',color='orange',density= True)\n",
        "plt.title('Histograma de Y1')\n",
        "plt.xlabel ('Y1')\n",
        "plt.show()\n",
        "print ('Media: ',np.mean(Y))\n",
        "print ('Varianza: ',np.var(Y))\n",
        "\n",
        "\n",
        "b = 20\n",
        "c = 15**2\n",
        "\n",
        "Z = []\n",
        "for i in Y:\n",
        "  Z.append (f6(i,b,c))\n",
        "\n",
        "plt.hist( Z,'sturges',density= True)\n",
        "plt.title('Histograma de Y')\n",
        "plt.xlabel ('Y')\n",
        "plt.show()\n",
        "print ('Media: ',np.mean(Z))\n",
        "print ('Varianza: ',np.var(Z))\n"
      ],
      "execution_count": 2,
      "outputs": [
        {
          "output_type": "display_data",
          "data": {
            "image/png": "[encoded data removed]",
            "text/plain": [
              "<Figure size 432x288 with 1 Axes>"
            ]
          },
          "metadata": {
            "tags": [],
            "needs_background": "light"
          }
        },
        {
          "output_type": "stream",
          "text": [
            "Media:  0.0018307523208091583\n",
            "Varianza:  1.0031164931582544\n"
          ],
          "name": "stdout"
        },
        {
          "output_type": "display_data",
          "data": {
            "image/png": "[encoded data removed]",
            "text/plain": [
              "<Figure size 432x288 with 1 Axes>"
            ]
          },
          "metadata": {
            "tags": [],
            "needs_background": "light"
          }
        },
        {
          "output_type": "stream",
          "text": [
            "Media:  20.027461284812137\n",
            "Varianza:  225.7012109606072\n"
          ],
          "name": "stdout"
        }
      ]
    },
    {
      "cell_type": "markdown",
      "metadata": {
        "id": "MQFSoosex3H5"
      },
      "source": [
        "## Ejercicio 6 c)"
      ]
    },
    {
      "cell_type": "markdown",
      "metadata": {
        "id": "BFnHAmkHyPcm"
      },
      "source": [
        "Para verificar los valores obtenidos de la media y la varianza, primero se aumenta y luego se disminuye el tamaño de la muestra y comparamos los resultados"
      ]
    },
    {
      "cell_type": "markdown",
      "metadata": {
        "id": "HldCe2OEhsQO"
      },
      "source": [
        "Aumentamos el tamaño de las muestras de 100000 a 1500000"
      ]
    },
    {
      "cell_type": "code",
      "metadata": {
        "id": "KCUNBhAHzhXc",
        "colab": {
          "base_uri": "https://localhost:8080/",
          "height": 329
        },
        "outputId": "4c19c281-fd4a-4097-884b-d890cbf56079"
      },
      "source": [
        "# Primero lo realizamos para la distribucion normal (10, 2)\n",
        "import numpy as np\n",
        "import matplotlib.pyplot as plt\n",
        "N=1500000\n",
        "\n",
        "U1=np.random.rand(N)\n",
        "U2=np.random.rand(N)\n",
        "S=np.random.rand(N)\n",
        "X=[]\n",
        "X11=[]\n",
        "\n",
        "def f1(u):\n",
        " return -1*np.log(U1[i])\n",
        "\n",
        "def f2(x):\n",
        " return np.exp(-1/2 * (x-1)**2 ) \n",
        "\n",
        "def f3(x,m,v):\n",
        "  return x*np.sqrt(v)+m\n",
        "\n",
        "for i in range (N):\n",
        "  X1=f1(U1[i])\n",
        "  if (U2[i] <=f2(X1)):\n",
        "    X11.append(X1)\n",
        "    if S[i] <= 0.5:\n",
        "      X.append(X1)\n",
        "    else:\n",
        "       X.append(-1*X1)\n",
        "\n",
        "#Distribucion Normal (10, 2)\n",
        "\n",
        "b = 10\n",
        "c = 2**2\n",
        "\n",
        "Z_1 = []\n",
        "for i in X:\n",
        "  Z_1.append (f3(i,b,c))\n",
        "\n",
        "plt.hist( Z_1,'sturges',density= True)\n",
        "plt.title('Histograma de X')\n",
        "plt.xlabel ('X')\n",
        "plt.show()\n",
        "print ('Media: ',np.mean(Z_1))\n",
        "print ('Varianza: ',np.var(Z_1))\n"
      ],
      "execution_count": 3,
      "outputs": [
        {
          "output_type": "display_data",
          "data": {
            "image/png": "[encoded data removed]",
            "text/plain": [
              "<Figure size 432x288 with 1 Axes>"
            ]
          },
          "metadata": {
            "tags": [],
            "needs_background": "light"
          }
        },
        {
          "output_type": "stream",
          "text": [
            "Media:  10.001852718623502\n",
            "Varianza:  4.001492182243196\n"
          ],
          "name": "stdout"
        }
      ]
    },
    {
      "cell_type": "code",
      "metadata": {
        "id": "Ts1RIR4vz8TT",
        "colab": {
          "base_uri": "https://localhost:8080/",
          "height": 329
        },
        "outputId": "a041a328-a366-46d1-d94c-9e3eb8e4e469"
      },
      "source": [
        "# Ahora lo realizamos para la distribucion normal (20, 15)\n",
        "import numpy as np\n",
        "import matplotlib.pyplot as plt\n",
        "N=1500000\n",
        "\n",
        "U3=np.random.rand(N)\n",
        "U4=np.random.rand(N)\n",
        "S=np.random.rand(N)\n",
        "Y=[]\n",
        "Y11=[]\n",
        "\n",
        "def f4(u):\n",
        " return -1*np.log(U3[i])\n",
        "\n",
        "def f5(y):\n",
        " return np.exp(-1/2 * (y-1)**2 ) \n",
        "\n",
        "def f6(y,m,v):\n",
        "  return y*np.sqrt(v)+m\n",
        "\n",
        "for i in range (N):\n",
        "  Y1=f4(U3[i])\n",
        "  if (U4[i] <=f5(Y1)):\n",
        "    Y11.append(Y1)\n",
        "    if S[i] <= 0.5:\n",
        "      Y.append(Y1)\n",
        "    else:\n",
        "       Y.append(-1*Y1)\n",
        " \n",
        "\n",
        "b = 20\n",
        "c = 15**2\n",
        "\n",
        "Z_2 = []\n",
        "for i in Y:\n",
        "  Z_2.append (f6(i,b,c))\n",
        "\n",
        "plt.hist( Z_2,'sturges',density= True)\n",
        "plt.title('Histograma de Y')\n",
        "plt.xlabel ('Y')\n",
        "plt.show()\n",
        "print ('Media: ',np.mean(Z_2))\n",
        "print ('Varianza: ',np.var(Z_2))"
      ],
      "execution_count": 4,
      "outputs": [
        {
          "output_type": "display_data",
          "data": {
            "image/png": "[encoded data removed]",
            "text/plain": [
              "<Figure size 432x288 with 1 Axes>"
            ]
          },
          "metadata": {
            "tags": [],
            "needs_background": "light"
          }
        },
        {
          "output_type": "stream",
          "text": [
            "Media:  19.99830905781511\n",
            "Varianza:  225.19399162219398\n"
          ],
          "name": "stdout"
        }
      ]
    },
    {
      "cell_type": "markdown",
      "metadata": {
        "id": "E1RM3Rva0FSR"
      },
      "source": [
        "Como se puede observar, al aumentar la cantidad de muestras, los valores de la media y el desvio se mantienen ceranos a los teoricos"
      ]
    },
    {
      "cell_type": "markdown",
      "metadata": {
        "id": "Q13KGtcsiQBZ"
      },
      "source": [
        "Disminuimos el tamaño de las muestras de 100000 a 50000"
      ]
    },
    {
      "cell_type": "code",
      "metadata": {
        "id": "rBkbiAnP0kxJ",
        "colab": {
          "base_uri": "https://localhost:8080/",
          "height": 329
        },
        "outputId": "dd84718a-6d73-4efd-9126-4bc826226b72"
      },
      "source": [
        "# Primero lo realizamos para la distribucion normal (10, 2)\n",
        "import numpy as np\n",
        "import matplotlib.pyplot as plt\n",
        "N=50000\n",
        "\n",
        "U1=np.random.rand(N)\n",
        "U2=np.random.rand(N)\n",
        "S=np.random.rand(N)\n",
        "X=[]\n",
        "X11=[]\n",
        "\n",
        "def f1(u):\n",
        " return -1*np.log(U1[i])\n",
        "\n",
        "def f2(x):\n",
        " return np.exp(-1/2 * (x-1)**2 ) \n",
        "\n",
        "def f3(x,m,v):\n",
        "  return x*np.sqrt(v)+m\n",
        "\n",
        "for i in range (N):\n",
        "  X1=f1(U1[i])\n",
        "  if (U2[i] <=f2(X1)):\n",
        "    X11.append(X1)\n",
        "    if S[i] <= 0.5:\n",
        "      X.append(X1)\n",
        "    else:\n",
        "       X.append(-1*X1)\n",
        " \n",
        "#Distribucion Normal (10, 2)\n",
        "\n",
        "b = 10\n",
        "c = 2**2\n",
        "\n",
        "Z_1 = []\n",
        "for i in X:\n",
        "  Z_1.append (f3(i,b,c))\n",
        "\n",
        "plt.hist( Z_1,'sturges',density= True)\n",
        "plt.title('Histograma de X')\n",
        "plt.xlabel ('X')\n",
        "plt.show()\n",
        "print ('Media: ',np.mean(Z_1))\n",
        "print ('Varianza: ',np.var(Z_1))"
      ],
      "execution_count": 5,
      "outputs": [
        {
          "output_type": "display_data",
          "data": {
            "image/png": "[encoded data removed]",
            "text/plain": [
              "<Figure size 432x288 with 1 Axes>"
            ]
          },
          "metadata": {
            "tags": [],
            "needs_background": "light"
          }
        },
        {
          "output_type": "stream",
          "text": [
            "Media:  10.005395090646998\n",
            "Varianza:  4.045485540718238\n"
          ],
          "name": "stdout"
        }
      ]
    },
    {
      "cell_type": "code",
      "metadata": {
        "id": "9ICvAMbq0nxh",
        "colab": {
          "base_uri": "https://localhost:8080/",
          "height": 329
        },
        "outputId": "f0a9482b-6974-4047-8f58-14b7de61e81b"
      },
      "source": [
        "# Ahora lo realizamos para la distribucion normal (20, 15)\n",
        "import numpy as np\n",
        "import matplotlib.pyplot as plt\n",
        "N=50000\n",
        "\n",
        "U3=np.random.rand(N)\n",
        "U4=np.random.rand(N)\n",
        "S=np.random.rand(N)\n",
        "Y=[]\n",
        "Y11=[]\n",
        "\n",
        "def f4(u):\n",
        " return -1*np.log(U3[i])\n",
        "\n",
        "def f5(y):\n",
        " return np.exp(-1/2 * (y-1)**2 ) \n",
        "\n",
        "def f6(y,m,v):\n",
        "  return y*np.sqrt(v)+m\n",
        "\n",
        "for i in range (N):\n",
        "  Y1=f4(U3[i])\n",
        "  if (U4[i] <=f5(Y1)):\n",
        "    Y11.append(Y1)\n",
        "    if S[i] <= 0.5:\n",
        "      Y.append(Y1)\n",
        "    else:\n",
        "       Y.append(-1*Y1)\n",
        "\n",
        "\n",
        "b = 20\n",
        "c = 15**2\n",
        "\n",
        "Z_2 = []\n",
        "for i in Y:\n",
        "  Z_2.append (f6(i,b,c))\n",
        "\n",
        "plt.hist( Z_2,'sturges',density= True)\n",
        "plt.title('Histograma de Y')\n",
        "plt.xlabel ('Y')\n",
        "plt.show()\n",
        "print ('Media: ',np.mean(Z_2))\n",
        "print ('Varianza: ',np.var(Z_2))"
      ],
      "execution_count": 6,
      "outputs": [
        {
          "output_type": "display_data",
          "data": {
            "image/png": "[encoded data removed]",
            "text/plain": [
              "<Figure size 432x288 with 1 Axes>"
            ]
          },
          "metadata": {
            "tags": [],
            "needs_background": "light"
          }
        },
        {
          "output_type": "stream",
          "text": [
            "Media:  20.00201960393082\n",
            "Varianza:  223.1751607665107\n"
          ],
          "name": "stdout"
        }
      ]
    },
    {
      "cell_type": "markdown",
      "metadata": {
        "id": "2J0V4hoH0von"
      },
      "source": [
        "Como se puede observar, al disminuir la cantidad de muestras, los valores de la media y el desvio se mantienen ceranos a los teoricos"
      ]
    },
    {
      "cell_type": "markdown",
      "metadata": {
        "id": "_hoRR3Ep03bY"
      },
      "source": [
        "Finalmente, en ambos casos, tanto la media, como la varianza se mantienen fieles a los valores teoricos esperados"
      ]
    },
    {
      "cell_type": "markdown",
      "metadata": {
        "id": "qlPscd5BIfiq"
      },
      "source": [
        "##Ejercicio 6 d)"
      ]
    },
    {
      "cell_type": "markdown",
      "metadata": {
        "id": "-MrwAu85ImUE"
      },
      "source": [
        "Como X e Y están normalmente distribuidas y son independientes, su distribución conjunta también está normalmente distribuida, es decir, el par (X, Y) debe tener una distribución normal bivariada.\n",
        "\n",
        "Siendo X la distribucion normal (10, 2) e Y la distribucion normal (20, 15) "
      ]
    },
    {
      "cell_type": "markdown",
      "metadata": {
        "id": "iPzOe1iXPJCG"
      },
      "source": [
        "### Distribuciones generadas en el punto a)"
      ]
    },
    {
      "cell_type": "code",
      "metadata": {
        "id": "a3cVux0mI_nw",
        "colab": {
          "base_uri": "https://localhost:8080/",
          "height": 329
        },
        "outputId": "0a67dccb-b323-434b-e2b3-05192e9ddcac"
      },
      "source": [
        "#Normal (10, 2)\n",
        "import numpy as np\n",
        "import matplotlib.pyplot as plt\n",
        "N=100000\n",
        "\n",
        "U1=np.random.rand(N)\n",
        "U2=np.random.rand(N)\n",
        "S=np.random.rand(N)\n",
        "X=[]\n",
        "X11=[]\n",
        "\n",
        "def f1(u):\n",
        " return -1*np.log(U1[i])\n",
        "\n",
        "def f2(x):\n",
        " return np.exp(-1/2 * (x-1)**2 ) \n",
        "\n",
        "def f3(x,m,v):\n",
        "  return x*np.sqrt(v)+m\n",
        "\n",
        "for i in range (N):\n",
        "  X1=f1(U1[i])\n",
        "  if (U2[i] <=f2(X1)):\n",
        "    X11.append(X1)\n",
        "    if S[i] <= 0.5:\n",
        "      X.append(X1)\n",
        "    else:\n",
        "       X.append(-1*X1)\n",
        " \n",
        "#Distribucion Normal (10, 2)\n",
        "\n",
        "b = 10\n",
        "c = 2**2\n",
        "\n",
        "Z_1 = []\n",
        "for i in X:\n",
        "  Z_1.append (f3(i,b,c))\n",
        "\n",
        "plt.hist( Z_1,'sturges',density= True)\n",
        "plt.title('Histograma de X')\n",
        "plt.xlabel ('X')\n",
        "plt.show()\n",
        "print ('Media: ',np.mean(Z_1))\n",
        "print ('Varianza: ',np.var(Z_1))"
      ],
      "execution_count": 7,
      "outputs": [
        {
          "output_type": "display_data",
          "data": {
            "image/png": "[encoded data removed]",
            "text/plain": [
              "<Figure size 432x288 with 1 Axes>"
            ]
          },
          "metadata": {
            "tags": [],
            "needs_background": "light"
          }
        },
        {
          "output_type": "stream",
          "text": [
            "Media:  10.0140695141708\n",
            "Varianza:  3.9807933488211367\n"
          ],
          "name": "stdout"
        }
      ]
    },
    {
      "cell_type": "code",
      "metadata": {
        "id": "AVWxkEcGJHRp",
        "colab": {
          "base_uri": "https://localhost:8080/",
          "height": 329
        },
        "outputId": "d34a98e2-310f-40ff-f5b2-cf48af178246"
      },
      "source": [
        "#Normal (20, 15)\n",
        "import numpy as np\n",
        "import matplotlib.pyplot as plt\n",
        "from scipy.stats import multivariate_normal\n",
        "N=100000\n",
        "\n",
        "U3=np.random.rand(N)\n",
        "U4=np.random.rand(N)\n",
        "S=np.random.rand(N)\n",
        "Y=[]\n",
        "Y11=[]\n",
        "\n",
        "def f4(u):\n",
        " return -1*np.log(U3[i])\n",
        "\n",
        "def f5(y):\n",
        " return np.exp(-1/2 * (y-1)**2 ) \n",
        "\n",
        "def f6(y,m,v):\n",
        "  return y*np.sqrt(v)+m\n",
        "\n",
        "for i in range (N):\n",
        "  Y1=f4(U3[i])\n",
        "  if (U4[i] <=f5(Y1)):\n",
        "    Y11.append(Y1)\n",
        "    if S[i] <= 0.5:\n",
        "      Y.append(Y1)\n",
        "    else:\n",
        "       Y.append(-1*Y1)\n",
        "\n",
        "b = 20\n",
        "c = 15**2\n",
        "\n",
        "Z_2 = []\n",
        "for i in Y:\n",
        "  Z_2.append (f6(i,b,c))\n",
        "\n",
        "plt.hist( Z_2,'sturges',density= True)\n",
        "plt.title('Histograma de Y')\n",
        "plt.xlabel ('Y')\n",
        "plt.show()\n",
        "print ('Media: ',np.mean(Z_2))\n",
        "print ('Varianza: ',np.var(Z_2))"
      ],
      "execution_count": 8,
      "outputs": [
        {
          "output_type": "display_data",
          "data": {
            "image/png": "[encoded data removed]",
            "text/plain": [
              "<Figure size 432x288 with 1 Axes>"
            ]
          },
          "metadata": {
            "tags": [],
            "needs_background": "light"
          }
        },
        {
          "output_type": "stream",
          "text": [
            "Media:  20.07915136805034\n",
            "Varianza:  226.38486105729328\n"
          ],
          "name": "stdout"
        }
      ]
    },
    {
      "cell_type": "markdown",
      "metadata": {
        "id": "xA7nZVYdPObq"
      },
      "source": [
        "###Cálculo de la normal bivariada"
      ]
    },
    {
      "cell_type": "code",
      "metadata": {
        "id": "KyNkjv0GomIY"
      },
      "source": [
        "def mult(a,b,z,l):\n",
        "  \n",
        "  for i in range(0,l):\n",
        "    Z.append(a[i]*b[i])\n",
        "  return Z"
      ],
      "execution_count": 9,
      "outputs": []
    },
    {
      "cell_type": "code",
      "metadata": {
        "id": "-7-NS3DiL2zy",
        "colab": {
          "base_uri": "https://localhost:8080/",
          "height": 281
        },
        "outputId": "9cbdedc2-01c6-48bd-c3a8-65cbe5c8afe8"
      },
      "source": [
        "#Para armar la distribucion bivariada, tengo que multiplicar las distribuciones Z_1 y Z_2\n",
        "#Como Z_1 y Z_2 están normalmente distribuidas y son independientes, \n",
        "#su distribución conjunta (la cual es el producto de las dos funciones de densidad, por ser independientes)\n",
        "#también está normalmente distribuida, es decir, el par (Z_1, Z_2) debe tener una distribución normal bivariada.\n",
        "\n",
        "\n",
        "#normal (10, 2)\n",
        "b_1 = 10\n",
        "c_1 = 2**2\n",
        "\n",
        "#normal (20, 15)\n",
        "b_2 = 20\n",
        "c_2 = 15**2\n",
        "\n",
        "Z=[]\n",
        "largo=min(len(Z_1),len(Z_2))\n",
        "\n",
        "Z=mult(Z_1,Z_2,Z,largo)\n",
        "\n",
        "X_1=[]\n",
        "Y_1=[]\n",
        "\n",
        "for i in range(0, largo):\n",
        "  X_1.append(X[i])\n",
        "  Y_1.append(Y[i])\n",
        "\n",
        "# Z deberia quedar Normal (10,20,2**2,15**2,0)\n",
        "\n",
        "plt.title('Coeficiente de Correlacion') \n",
        "plt.scatter(X_1,Y_1,s=5)\n",
        "plt.show()\n",
        "\n"
      ],
      "execution_count": 10,
      "outputs": [
        {
          "output_type": "display_data",
          "data": {
            "image/png": "[encoded data removed]",
            "text/plain": [
              "<Figure size 432x288 with 1 Axes>"
            ]
          },
          "metadata": {
            "tags": [],
            "needs_background": "light"
          }
        }
      ]
    },
    {
      "cell_type": "markdown",
      "metadata": {
        "id": "sfjRgQFdsm_i"
      },
      "source": [
        "Como se puede observar, ya que las variables X e Y eran independientes, el coeficiente de correlacion es igual a 0, esto en el grafico indica que no hay ningun patron entre las variables X e Y "
      ]
    },
    {
      "cell_type": "code",
      "metadata": {
        "id": "K0pu_HPuDkR3",
        "colab": {
          "base_uri": "https://localhost:8080/",
          "height": 248
        },
        "outputId": "9c3f32f9-3862-4c5b-aee1-7eb67c0c905d"
      },
      "source": [
        "import numpy as np\n",
        "import matplotlib.pyplot as plt\n",
        "from scipy.stats import multivariate_normal\n",
        "from mpl_toolkits.mplot3d import Axes3D\n",
        "\n",
        "#Parameters to set\n",
        "mu_y = 20\n",
        "variance_y = 15**2\n",
        "\n",
        "mu_x = 10\n",
        "variance_x = 2**2\n",
        "\n",
        "#Create grid and multivariate normal\n",
        "x = [round(Z_1[i],10) for i in range(len(Z_1))]\n",
        "y = [round(Z_2[i],10) for i in range(len(Z_2))]\n",
        "\n",
        "x = x[:10000] \n",
        "y = y[:10000] \n",
        "\n",
        "X, Y = np.meshgrid(x,y)\n",
        "pos = np.empty(X.shape + (2,))\n",
        "pos[:, :, 0] = X; pos[:, :, 1] = Y\n",
        "rv = multivariate_normal([mu_x, mu_y], [[variance_x, 0], [0, variance_y]])\n",
        "\n",
        "#Make a 3D plot\n",
        "fig = plt.figure()\n",
        "ax = fig.gca(projection='3d')\n",
        "ax.plot_surface(X, Y, rv.pdf(pos),cmap='viridis',linewidth=0.1)\n",
        "\n",
        "ax.view_init(elev=10, azim=40) \n",
        "\n",
        "ax.set_xlabel('X axis')\n",
        "ax.set_ylabel('Y axis')\n",
        "ax.set_zlabel('Z axis')\n",
        "plt.show()"
      ],
      "execution_count": 13,
      "outputs": [
        {
          "output_type": "display_data",
          "data": {
            "image/png": "[encoded data removed]",
            "text/plain": [
              "<Figure size 432x288 with 1 Axes>"
            ]
          },
          "metadata": {
            "tags": [],
            "needs_background": "light"
          }
        }
      ]
    },
    {
      "cell_type": "markdown",
      "metadata": {
        "id": "jZdR9255BhpL"
      },
      "source": [
        "En el eje Y se puede observar la distribución de la Normal (20, 15), mientras que en el eje X se observa la distribucion de la Normal (10, 2)"
      ]
    }
  ]
}