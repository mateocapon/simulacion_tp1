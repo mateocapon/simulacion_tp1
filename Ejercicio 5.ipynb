{
  "nbformat": 4,
  "nbformat_minor": 0,
  "metadata": {
    "colab": {
      "name": "Ejercicio 5",
      "provenance": [],
      "authorship_tag": "ABX9TyPw3wF2licQn+PxybJTYGtN",
      "include_colab_link": true
    },
    "kernelspec": {
      "name": "python3",
      "display_name": "Python 3"
    }
  },
  "cells": [
    {
      "cell_type": "markdown",
      "metadata": {
        "id": "view-in-github",
        "colab_type": "text"
      },
      "source": [
        "<a href=\"https://colab.research.google.com/github/mateocapon/simulacion_tp1/blob/main/Ejercicio%205.ipynb\" target=\"_parent\"><img src=\"https://colab.research.google.com/assets/colab-badge.svg\" alt=\"Open In Colab\"/></a>"
      ]
    },
    {
      "cell_type": "markdown",
      "metadata": {
        "id": "TN7rH0dYTRJE"
      },
      "source": [
        "# Ejercicio 5"
      ]
    },
    {
      "cell_type": "code",
      "metadata": {
        "id": "Zbqwf23xtGnL"
      },
      "source": [
        "import scipy\n",
        "import matplotlib.pyplot as plt\n",
        "import numpy as np\n",
        "import random\n",
        "import seaborn as sns\n",
        "\n",
        "\n",
        "modulo = 2**32\n",
        "multiplicador = 1013904223\n",
        "incremento = 1664525\n",
        "semilla = int((101503+103856+104258+102995)/4)\n",
        "\n",
        "def generarRandomNormalizada(n):\n",
        "    x = semilla\n",
        "    result = []\n",
        "    for i in range(n):\n",
        "        result.append(x/modulo)\n",
        "        x = (x * multiplicador + incremento) % modulo\n",
        "    return result\n",
        "\n",
        "N = 100000"
      ],
      "execution_count": 112,
      "outputs": []
    },
    {
      "cell_type": "code",
      "metadata": {
        "id": "wXaCJvgstVzb"
      },
      "source": [
        "x = generarRandomNormalizada(N)\n",
        "\n",
        "pA = 0.1\n",
        "pB = 0.5\n",
        "pC = 0.3\n",
        "pD = 0.1\n",
        "\n",
        "A = []\n",
        "B = []\n",
        "C = []\n",
        "D = []\n",
        "\n",
        "for i in x:\n",
        "    if i <= pA:\n",
        "      A.append(i)\n",
        "    elif i <= pA+pB:\n",
        "      B.append(i)\n",
        "    elif i <= pA+pB+pC:\n",
        "      C.append(i)\n",
        "    else:\n",
        "      D.append(i)"
      ],
      "execution_count": 114,
      "outputs": []
    },
    {
      "cell_type": "code",
      "metadata": {
        "id": "JKQN_DMouh1F"
      },
      "source": [
        "Y = [len(A),len(B),len(C),len(D)]\n",
        "\n",
        "X = [\"A\",\"B\",\"C\",\"D\"]"
      ],
      "execution_count": 123,
      "outputs": []
    },
    {
      "cell_type": "code",
      "metadata": {
        "id": "cRYA3sTYuxcX",
        "outputId": "5321cefe-0eb7-45b9-f182-df570a3d1eb5",
        "colab": {
          "base_uri": "https://localhost:8080/",
          "height": 282
        }
      },
      "source": [
        "sns.barplot( x=X , y=Y )"
      ],
      "execution_count": 124,
      "outputs": [
        {
          "output_type": "execute_result",
          "data": {
            "text/plain": [
              "<matplotlib.axes._subplots.AxesSubplot at 0x7f382d74a390>"
            ]
          },
          "metadata": {
            "tags": []
          },
          "execution_count": 124
        },
        {
          "output_type": "display_data",
          "data": {
            "image/png": "[encoded data removed]",
            "text/plain": [
              "<Figure size 432x288 with 1 Axes>"
            ]
          },
          "metadata": {
            "tags": [],
            "needs_background": "light"
          }
        }
      ]
    },
    {
      "cell_type": "code",
      "metadata": {
        "id": "W4o-g4HIvQXu",
        "outputId": "4280453c-5342-4d19-931c-ef38ba164c24",
        "colab": {
          "base_uri": "https://localhost:8080/",
          "height": 282
        }
      },
      "source": [
        "df = [(A),(B),(C),(D)]\n",
        "sns.histplot(data=df)"
      ],
      "execution_count": 126,
      "outputs": [
        {
          "output_type": "execute_result",
          "data": {
            "text/plain": [
              "<matplotlib.axes._subplots.AxesSubplot at 0x7f382d7849b0>"
            ]
          },
          "metadata": {
            "tags": []
          },
          "execution_count": 126
        },
        {
          "output_type": "display_data",
          "data": {
            "image/png": "[encoded data removed]",
            "text/plain": [
              "<Figure size 432x288 with 1 Axes>"
            ]
          },
          "metadata": {
            "tags": [],
            "needs_background": "light"
          }
        }
      ]
    },
    {
      "cell_type": "code",
      "metadata": {
        "id": "o_dcqc29v9I0"
      },
      "source": [
        ""
      ],
      "execution_count": null,
      "outputs": []
    }
  ]
}