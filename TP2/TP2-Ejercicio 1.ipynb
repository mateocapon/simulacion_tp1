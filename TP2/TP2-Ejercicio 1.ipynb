{
 "cells": [
  {
   "cell_type": "markdown",
   "metadata": {},
   "source": [
    "# Ejercicio 1"
   ]
  },
  {
   "cell_type": "markdown",
   "metadata": {},
   "source": [
    "Definimos las variables aleatorias $T_{i}$ : \" Tiempo en segundos que transcurre entre la $i-ésima$ y la $ i+1-ésima$ llamada al servicio \" y generamos muestras aleatorias para las mismas.\n",
    "\n",
    "$T_{i} \\sim \\varepsilon(\\frac{1}{4}) $"
   ]
  },
  {
   "cell_type": "code",
   "execution_count": 1,
   "metadata": {},
   "outputs": [],
   "source": [
    "import numpy as np\n",
    "from numpy.random import RandomState"
   ]
  },
  {
   "cell_type": "code",
   "execution_count": 2,
   "metadata": {},
   "outputs": [],
   "source": [
    "cantidad_solicitudes = 100000\n",
    "tiempos_entre_llamadas = RandomState(5).exponential(scale=4, size=cantidad_solicitudes)\n",
    "\n",
    "# tiempos_acumulados almacena el instante en el que llega cada solicitud\n",
    "tiempos_acumulados = []\n",
    "tiempos_acumulados.append(tiempos_entre_llamadas[0])\n",
    "for i in range(cantidad_solicitudes - 1):\n",
    "    tiempos_acumulados.append(tiempos_acumulados[i] + tiempos_entre_llamadas[i+1])"
   ]
  },
  {
   "cell_type": "markdown",
   "metadata": {},
   "source": [
    "## Arquitectura con dos bases de datos "
   ]
  },
  {
   "cell_type": "markdown",
   "metadata": {},
   "source": [
    "Dado que cada solicitud es procesada por una base de datos u otra de acuerdo a una distribución Bernoulli con parámetro $p = 0.6$ independientemente de las demás solicitudes, podemos aplicar la propiedad de adelgazamiento para Procesos de Poisson. En este sentido, analizamos cada base de datos por separado. "
   ]
  },
  {
   "cell_type": "code",
   "execution_count": 3,
   "metadata": {},
   "outputs": [],
   "source": [
    "def calcular_tiempos_espera(horarios_llegada, demora, cantidad_solicitudes):\n",
    "    horario_base_liberada = horarios_llegada[0] + demora[0]\n",
    "    tiempo_espera = []\n",
    "\n",
    "    #la primera solicitud no debe esperar\n",
    "    tiempo_espera.append(0)\n",
    "    for i in range(cantidad_solicitudes - 1):\n",
    "        if horarios_llegada[i+1] < horario_base_liberada:\n",
    "            tiempo_espera.append(horario_base_liberada - horarios_llegada[i+1])\n",
    "            horario_base_liberada += demora[i+1] \n",
    "\n",
    "        else:\n",
    "            tiempo_espera.append(0)\n",
    "            horario_base_liberada = horarios_llegada[i+1] + demora[i+1] \n",
    "    \n",
    "    return tiempo_espera            "
   ]
  },
  {
   "cell_type": "code",
   "execution_count": 4,
   "metadata": {},
   "outputs": [],
   "source": [
    "p = 0.6\n",
    "eleccion = np.asarray(RandomState(5).binomial(1, p, cantidad_solicitudes))\n",
    "tiempos_llegada_b1 = []\n",
    "tiempos_llegada_b2 = []\n",
    "\n",
    "for i in range(cantidad_solicitudes):\n",
    "    if eleccion[i] == 1:\n",
    "        tiempos_llegada_b1.append(tiempos_acumulados[i])\n",
    "    else:\n",
    "        tiempos_llegada_b2.append(tiempos_acumulados[i])\n",
    "        \n",
    "cantidad_solicitudes_b1 = len(tiempos_llegada_b1)\n",
    "cantidad_solicitudes_b2 = len(tiempos_llegada_b2)\n",
    "demora_b1 = RandomState(5).exponential(scale=0.7, size=cantidad_solicitudes_b1)\n",
    "demora_b2 = RandomState(5).exponential(scale=1, size=cantidad_solicitudes_b2)\n",
    "\n",
    "tiempos_espera_b1 = calcular_tiempos_espera(tiempos_llegada_b1, demora_b1, cantidad_solicitudes_b1)        \n",
    "tiempos_espera_b2 = calcular_tiempos_espera(tiempos_llegada_b2, demora_b2, cantidad_solicitudes_b2)"
   ]
  },
  {
   "cell_type": "code",
   "execution_count": 5,
   "metadata": {},
   "outputs": [
    {
     "name": "stdout",
     "output_type": "stream",
     "text": [
      "El tiempo medio de espera para la primera arquitectura es de 0.088 segundos\n"
     ]
    }
   ],
   "source": [
    "print(\"El tiempo medio de espera para la primera arquitectura es de {:.3f} segundos\".format(np.mean(tiempos_espera_b1 + tiempos_espera_b2)))"
   ]
  },
  {
   "cell_type": "code",
   "execution_count": 6,
   "metadata": {},
   "outputs": [
    {
     "name": "stdout",
     "output_type": "stream",
     "text": [
      "Un 89.47 % de las solicitudes no esperaron para ser atendidas\n"
     ]
    }
   ],
   "source": [
    "print(\"Un {:.2f} % de las solicitudes no esperaron para ser atendidas\".format(np.sum(np.asarray(tiempos_espera_b1 + tiempos_espera_b2) == 0) * 100 / cantidad_solicitudes))"
   ]
  },
  {
   "cell_type": "code",
   "execution_count": 7,
   "metadata": {},
   "outputs": [
    {
     "name": "stdout",
     "output_type": "stream",
     "text": [
      "El tiempo medio de demora para cada solicitud es de 0.912 segundos\n"
     ]
    }
   ],
   "source": [
    "print(\"El tiempo medio de demora para cada solicitud es de {:.3f} segundos\".format(np.sum(tiempos_espera_b1 + tiempos_espera_b2 + list(demora_b1) + list(demora_b2)) / cantidad_solicitudes))"
   ]
  },
  {
   "cell_type": "markdown",
   "metadata": {},
   "source": [
    "Vale la pena resaltar que el resultado obtenido pareciera correcto. Definiendo $X_{i}$ : \" Tiempo en segundos necesario para procesar la la $i-ésima$ solicitud sin tener en cuenta el tiempo de espera\" se puede calcular $E[X_{i}]$ por la propiedad de esperanza total.\n",
    "\n",
    "$E[X_{i}] = 0.6 \\times 0.7 + 0.4 \\times 1 = 0.82$\n",
    "\n",
    "Considerando además el tiempo medio de espera simulado: 0.088, uno esperaría un resultado similar a 0.82 + 0.088 = 0.908.  "
   ]
  },
  {
   "cell_type": "markdown",
   "metadata": {},
   "source": [
    "## Arquitectura con una sola base de datos"
   ]
  },
  {
   "cell_type": "code",
   "execution_count": 8,
   "metadata": {},
   "outputs": [],
   "source": [
    "demora = RandomState(5).exponential(scale=0.8, size=cantidad_solicitudes)"
   ]
  },
  {
   "cell_type": "code",
   "execution_count": 9,
   "metadata": {},
   "outputs": [],
   "source": [
    "tiempo_espera = calcular_tiempos_espera(tiempos_acumulados, demora, cantidad_solicitudes)"
   ]
  },
  {
   "cell_type": "code",
   "execution_count": 10,
   "metadata": {},
   "outputs": [
    {
     "name": "stdout",
     "output_type": "stream",
     "text": [
      "El tiempo medio de espera para la segunda arquitectura es de 0.166 segundos\n"
     ]
    }
   ],
   "source": [
    "print(\"El tiempo medio de espera para la segunda arquitectura es de {:.3f} segundos\".format(np.mean(tiempo_espera)))"
   ]
  },
  {
   "cell_type": "code",
   "execution_count": 11,
   "metadata": {},
   "outputs": [
    {
     "name": "stdout",
     "output_type": "stream",
     "text": [
      "Un 80.13 % de las solicitudes no esperaron para ser atendidas\n"
     ]
    }
   ],
   "source": [
    "print(\"Un {:.2f} % de las solicitudes no esperaron para ser atendidas\".format(np.sum(np.asarray(tiempo_espera) == 0) * 100 / cantidad_solicitudes))"
   ]
  },
  {
   "cell_type": "code",
   "execution_count": 12,
   "metadata": {},
   "outputs": [
    {
     "name": "stdout",
     "output_type": "stream",
     "text": [
      "El tiempo medio de demora para cada solicitud es de 0.968 segundos\n"
     ]
    }
   ],
   "source": [
    "print(\"El tiempo medio de demora para cada solicitud es de {:.3f} segundos\".format(np.sum(tiempo_espera + list(demora)) / cantidad_solicitudes))"
   ]
  },
  {
   "cell_type": "markdown",
   "metadata": {},
   "source": [
    "## Conclusión"
   ]
  },
  {
   "cell_type": "markdown",
   "metadata": {},
   "source": [
    "En conclusión, recomendaremos que la emprese utilice la segunda opción, debido a que el tiempo medio de demora para cada solicitud de la misma es sólamente un 6.14 % más lento. A pesar de los errores cometidos en los cálculos que deducen este resultado, creemos que es lo suficientemente significativo como para poder asegurar que la segunda opción es la más conveniente. "
   ]
  },
  {
   "cell_type": "code",
   "execution_count": 13,
   "metadata": {},
   "outputs": [
    {
     "data": {
      "text/plain": [
       "6.140350877192979"
      ]
     },
     "execution_count": 13,
     "metadata": {},
     "output_type": "execute_result"
    }
   ],
   "source": [
    "#Calculos Auxiliares\n",
    "(0.968 / 0.912 - 1) * 100"
   ]
  }
 ],
 "metadata": {
  "kernelspec": {
   "display_name": "Python 3",
   "language": "python",
   "name": "python3"
  },
  "language_info": {
   "codemirror_mode": {
    "name": "ipython",
    "version": 3
   },
   "file_extension": ".py",
   "mimetype": "text/x-python",
   "name": "python",
   "nbconvert_exporter": "python",
   "pygments_lexer": "ipython3",
   "version": "3.6.9"
  }
 },
 "nbformat": 4,
 "nbformat_minor": 4
}
