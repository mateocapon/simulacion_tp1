{
 "cells": [
  {
   "cell_type": "markdown",
   "metadata": {},
   "source": [
    "# Ejercicio 1.a"
   ]
  },
  {
   "cell_type": "code",
   "execution_count": 1,
   "metadata": {},
   "outputs": [
    {
     "name": "stdout",
     "output_type": "stream",
     "text": [
      "Requirement already satisfied: seaborn in /home/peter/.local/lib/python3.8/site-packages (0.11.0)\n",
      "Requirement already satisfied: scipy>=1.0 in /usr/lib/python3/dist-packages (from seaborn) (1.3.3)\n",
      "Requirement already satisfied: numpy>=1.15 in /usr/lib/python3/dist-packages (from seaborn) (1.17.4)\n",
      "Requirement already satisfied: pandas>=0.23 in /home/peter/.local/lib/python3.8/site-packages (from seaborn) (1.1.3)\n",
      "Requirement already satisfied: matplotlib>=2.2 in /usr/lib/python3/dist-packages (from seaborn) (3.1.2)\n",
      "Requirement already satisfied: python-dateutil>=2.7.3 in /usr/lib/python3/dist-packages (from pandas>=0.23->seaborn) (2.7.3)\n",
      "Requirement already satisfied: pytz>=2017.2 in /usr/lib/python3/dist-packages (from pandas>=0.23->seaborn) (2019.3)\n"
     ]
    }
   ],
   "source": [
    "import scipy\n",
    "import matplotlib\n",
    "import numpy\n",
    "import random\n",
    "!pip3 install seaborn\n",
    "import seaborn as sns"
   ]
  },
  {
   "cell_type": "code",
   "execution_count": 2,
   "metadata": {},
   "outputs": [],
   "source": [
    "modulo = 2**32\n",
    "multiplicador = 1013904223\n",
    "incremento = 1664525\n",
    "\n",
    "semilla = (101503+103856+104258+102995)/4"
   ]
  },
  {
   "cell_type": "code",
   "execution_count": 3,
   "metadata": {},
   "outputs": [
    {
     "name": "stdout",
     "output_type": "stream",
     "text": [
      "Modulo: 4294967296\n",
      "Multiplicador: 4294967296\n",
      "Incremento: 1664525\n",
      "Semilla: 103153.0\n"
     ]
    }
   ],
   "source": [
    "print(\"Modulo: \"+ str(modulo) )\n",
    "print(\"Multiplicador: \"+ str(modulo) )\n",
    "print(\"Incremento: \"+ str(incremento) )\n",
    "print(\"Semilla: \"+ str(semilla) )"
   ]
  },
  {
   "cell_type": "markdown",
   "metadata": {},
   "source": [
    "### Nuestra funcion de GCL quedaria como\n",
    "\n",
    "X<sub>(i+1)</sub> = ( X<sub>(i)</sub> * Multiplicador + Incremento ) % modulo"
   ]
  },
  {
   "cell_type": "code",
   "execution_count": 4,
   "metadata": {},
   "outputs": [
    {
     "name": "stdout",
     "output_type": "stream",
     "text": [
      "El periodo es de 12876\n"
     ]
    }
   ],
   "source": [
    "lista = []\n",
    "\n",
    "x = semilla\n",
    "periodo = 0\n",
    "\n",
    "while x not in lista:\n",
    "    lista.append(x)\n",
    "    periodo += 1\n",
    "    x = (x * multiplicador + incremento) % modulo\n",
    "    \n",
    "print(\"El periodo es de \"+ str(periodo) )"
   ]
  },
  {
   "cell_type": "markdown",
   "metadata": {},
   "source": [
    "# Ejercicio 1.b\n",
    "\n",
    "Para que nuestro GCL devuelva numero entre 0 y 1 podemos dividir por el modulo, normalizando el numero obtenido.\n",
    "\n",
    "X<sub>(i+1)</sub> = ( X<sub>(i)</sub> * Multiplicador + Incremento ) % modulo\n",
    "\n",
    "X<sub>(i+1)</sub> = X<sub>(i+1)</sub>  / modulo"
   ]
  },
  {
   "cell_type": "code",
   "execution_count": 5,
   "metadata": {},
   "outputs": [
    {
     "name": "stdout",
     "output_type": "stream",
     "text": [
      "0.11999037768691778\n",
      "0.6565184593200684\n",
      "0.38245856761932373\n",
      "0.832150936126709\n",
      "0.3126610517501831\n",
      "0.7375197410583496\n",
      "0.0053147077560424805\n",
      "0.638249876908958\n",
      "0.527610182762146\n",
      "0.4007291793823242\n"
     ]
    }
   ],
   "source": [
    "x = semilla\n",
    "\n",
    "for i in range(10):\n",
    "    x = (x * multiplicador + incremento) % modulo\n",
    "    print(x/modulo)"
   ]
  },
  {
   "cell_type": "markdown",
   "metadata": {},
   "source": [
    "# Ejercicio 1.c"
   ]
  },
  {
   "cell_type": "code",
   "execution_count": 6,
   "metadata": {},
   "outputs": [],
   "source": [
    "\"\"\"\n",
    "Vuelvo a calcular los valores de lista de valores por mas de que quede calculada de antes.\n",
    "\"\"\"\n",
    "\n",
    "lista = []\n",
    "listaNormalizada = []\n",
    "\n",
    "x = semilla\n",
    "\n",
    "for x in range(100000):\n",
    "    lista.append(x)\n",
    "    listaNormalizada.append(x/modulo)\n",
    "    x = (x * multiplicador + incremento) % modulo"
   ]
  },
  {
   "cell_type": "code",
   "execution_count": null,
   "metadata": {},
   "outputs": [],
   "source": []
  }
 ],
 "metadata": {
  "kernelspec": {
   "display_name": "Python 3",
   "language": "python",
   "name": "python3"
  },
  "language_info": {
   "codemirror_mode": {
    "name": "ipython",
    "version": 3
   },
   "file_extension": ".py",
   "mimetype": "text/x-python",
   "name": "python",
   "nbconvert_exporter": "python",
   "pygments_lexer": "ipython3",
   "version": "3.8.5"
  }
 },
 "nbformat": 4,
 "nbformat_minor": 4
}
