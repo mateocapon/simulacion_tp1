{
 "cells": [
  {
   "cell_type": "code",
   "execution_count": 53,
   "metadata": {
    "id": "qFRhBLBJ7QgI",
    "pycharm": {
     "name": "#%%\n"
    }
   },
   "outputs": [],
   "source": [
    "import scipy\n",
    "import matplotlib.pyplot as plt\n",
    "import numpy as np\n",
    "import random\n",
    "import seaborn as sns"
   ]
  },
  {
   "cell_type": "markdown",
   "metadata": {
    "id": "YSiV08pd7QgP",
    "pycharm": {
     "name": "#%% md\n"
    }
   },
   "source": [
    "# Ejercicio 4"
   ]
  },
  {
   "cell_type": "markdown",
   "metadata": {
    "id": "-Cd-i8l_7QgQ"
   },
   "source": [
    "## Ejercicio 4.a\n",
    "\n",
    "La funcion de densidad viene dada por:\n",
    "\n",
    "\\begin{equation} f_{X}(x) = \n",
    "\\left\\{\n",
    "  \\begin{aligned}\n",
    "    0 &\\, & \\mbox{si } \\ x \\leq 1 \\\\\n",
    "    \\frac{1}{9}(x - 1) &\\, & \\mbox{si } \\ 1 < x \\leq 2 \\\\\n",
    "    \\frac{1}{9} &\\, & \\mbox{si } \\ 2 < x \\leq 5 \\\\\n",
    "    \\frac{2}{45}\\,x&-\\frac{1}{9}& \\mbox{si } \\ 5 < x \\leq 7 \\\\\n",
    "    \\frac{-1}{15}\\,x&+\\frac{10}{15}& \\mbox{si } \\ 7 < x \\leq 10 \\\\\n",
    "    0 &\\, & \\mbox{si } \\ x \\geq 10 \\\\\n",
    "  \\end{aligned}\n",
    "  \\right.\n",
    "\\end{equation}\n",
    "\n",
    "la cual es una funcion de densidad, ya que la integral bajo su curva:\n",
    "\n",
    "$\\int_{-\\infty}^{\\infty} f_{X}(x) \\,dx =\n",
    " \\frac{1}{9}.\\frac{1}{2} + 3.\\frac{1}{9} +(\\frac{1}{9} + \\frac{1}{5}).\\frac{2}{2} + \\frac{1}{5}.\\frac{3}{2} = 1$"
   ]
  },
  {
   "cell_type": "markdown",
   "metadata": {
    "id": "EskqtOMU7QgR"
   },
   "source": [
    "## Ejercicio 4.b\n",
    "La funcion de distribucion de $X$ viene dada por:\n",
    "\n",
    "$F_{X}(x) = \\int_{-\\infty}^{x} f_{X}(x) \\,dx $\n",
    "\n",
    "Realizando las operaciones pertinentes, obtuvimos:\n",
    "\n",
    "\\begin{equation}F_{X}(x)= \n",
    "\\left\\{\n",
    "  \\begin{aligned}\n",
    "    0 &\\, & \\mbox{si } \\ x \\leq 1 \\\\\n",
    "    \\frac{(x-1)^{2}}{18} &\\, & \\mbox{si } \\ 1 < x \\leq 2 \\\\\n",
    "    \\frac{1}{18}+\\frac{1}{9}(x-2) &\\, & \\mbox{si } \\ 2 < x \\leq 5 \\\\\n",
    "    \\frac{7}{18}+\\frac{(x-5)x}{45}&& \\mbox{si } \\ 5 < x \\leq 7 \\\\\n",
    "    \\frac{-(x-10)^{2}}{30}+1&& \\mbox{si } \\ 7 < x \\leq 10 \\\\\n",
    "    1 &\\, & \\mbox{si } \\ x \\geq 10 \\\\\n",
    "  \\end{aligned}\n",
    "  \\right.\n",
    "\\end{equation}\n"
   ]
  },
  {
   "cell_type": "code",
   "execution_count": 54,
   "metadata": {
    "pycharm": {
     "name": "#%%\n"
    }
   },
   "outputs": [],
   "source": [
    "def F(x):\n",
    "  if(x <= 1): \n",
    "    return 0\n",
    "  if(x <= 2): \n",
    "    return ((x-1)**2)/18\n",
    "  if(x <= 5): \n",
    "      return (1/18+1/9*(x-2))\n",
    "  if(x <= 7): \n",
    "      return (7/18 +(x-5)*x/45)\n",
    "  if(x <= 10): \n",
    "      return -((x-10)**2/30)+1\n",
    "  else: return 1\n",
    "\n",
    "x = np.arange(0., 11, 0.08)\n",
    "\n",
    "y = []\n",
    "for i in range(len(x)):\n",
    "   y.append(F(x[i]))"
   ]
  },
  {
   "cell_type": "code",
   "execution_count": 55,
   "metadata": {
    "pycharm": {
     "name": "#%%\n"
    }
   },
   "outputs": [
    {
     "data": {
      "text/plain": "<Figure size 432x288 with 1 Axes>",
      "image/png": "[encoded data removed]"
     },
     "metadata": {
      "needs_background": "light"
     },
     "output_type": "display_data"
    },
    {
     "data": {
      "text/plain": "<Figure size 432x288 with 1 Axes>",
      "image/png": "[encoded data removed]"
     },
     "metadata": {
      "needs_background": "light"
     },
     "output_type": "display_data"
    }
   ],
   "source": [
    "plt.title('Funcion De Distribucion de X', size=15)\n",
    "plt.plot(x,y,c='red', ls='', ms=5, marker='.')\n",
    "ax = plt.gca()\n",
    "ax.set_xlabel('x')\n",
    "ax.set_ylabel('F(x)')\n",
    "ax.set_ylim([0, 1.1])\n",
    "ax.set_xlim([0, 11])\n",
    "\n",
    "plt.show()\n",
    "\n",
    "plt.plot(x,y,c='red')\n",
    "ax = plt.gca()\n",
    "ax.set_ylim([0, 1.1])\n",
    "ax.set_xlim([0, 11])\n",
    "ax.set_xlabel('x')\n",
    "ax.set_ylabel('F(x)')\n",
    "plt.show()"
   ]
  },
  {
   "cell_type": "markdown",
   "metadata": {
    "pycharm": {
     "name": "#%% md\n"
    }
   },
   "source": [
    "\n",
    "Calculamos la inversa de la funcion de distribucion de $X$:  $F^{-1}_{X}(x)$ definida en el intervalo [0;1]\n",
    "con imagen [1;10] donde la funcion es estrictamente creciente:\n",
    "\n",
    "\n",
    "\n",
    "Realizando las operaciones pertinentes(considerando las rama de las cuadraticas que se corresponden con\n",
    "la concavidad de la funcion en los determinados trozos y pasando las ecuaciones a su forma canonica\n",
    "para un mejor manejo de los calculos), obtuvimos:\n",
    "\n",
    "\\begin{equation}F^{-1}_{X}(x)=\n",
    "\\left\\{\n",
    "  \\begin{aligned}\n",
    "    1 + \\sqrt{18 x}  &\\, & \\mbox{si } \\ 0 < x \\leq \\frac{1}{18} \\\\\n",
    "    9 (x - \\frac{1}{18}) + 2 &\\, & \\mbox{si } \\ \\frac{1}{18} < x \\leq \\frac{7}{18} \\\\\n",
    "    \\sqrt{45(x-\\frac{1}{4})} + \\frac{5}{2} &\\, & \\mbox{si } \\ \\frac{7}{18} < x \\leq \\frac{7}{10} \\\\\n",
    "    10 - \\sqrt{30(1- x)} && \\mbox{si } \\ \\frac{7}{10} < x \\leq 1 \\\\\n",
    "  \\end{aligned}\n",
    "  \\right.\n",
    "\\end{equation}"
   ]
  },
  {
   "cell_type": "code",
   "execution_count": 56,
   "metadata": {
    "pycharm": {
     "name": "#%%\n"
    }
   },
   "outputs": [],
   "source": [
    "def F_inversa(x):\n",
    "  if(x <= 0):\n",
    "    return 0\n",
    "  if(x <= 1/18):\n",
    "    return (np.sqrt(18*x) + 1)\n",
    "  if(x <= 7/18):\n",
    "      return (9 * (x - 1/18) + 2)\n",
    "  if(x <= 7/10):\n",
    "      return np.sqrt(45 * (x - 1/4)) + 5/2\n",
    "  if(x <= 1):\n",
    "      return 10 - np.sqrt((1 - x) * 30)\n",
    "  else: return 1\n"
   ]
  },
  {
   "cell_type": "code",
   "execution_count": 57,
   "metadata": {
    "pycharm": {
     "name": "#%%\n"
    }
   },
   "outputs": [
    {
     "data": {
      "text/plain": "<Figure size 432x288 with 1 Axes>",
      "image/png": "[encoded data removed]"
     },
     "metadata": {
      "needs_background": "light"
     },
     "output_type": "display_data"
    },
    {
     "data": {
      "text/plain": "<Figure size 432x288 with 1 Axes>",
      "image/png": "[encoded data removed]"
     },
     "metadata": {
      "needs_background": "light"
     },
     "output_type": "display_data"
    }
   ],
   "source": [
    "plt.title('Funcion Inversa de la distribucion de X', size=15)\n",
    "plt.plot(y,x,c='blue', ls='', ms=5, marker='.')\n",
    "ax = plt.gca()\n",
    "ax.set_ylim([0, 11])\n",
    "ax.set_xlim([-0.1, 1.1])\n",
    "ax.set_xlabel('x')\n",
    "ax.set_ylabel(r'F^_{-1}(x)')\n",
    "plt.show()\n",
    "\n",
    "plt.plot(y,x,c='blue')\n",
    "ax = plt.gca()\n",
    "ax.set_xlabel('x')\n",
    "ax.set_ylabel(r'F^_{-1}(x)')\n",
    "ax.set_ylim([0, 11])\n",
    "ax.set_xlim([-0.1, 1.1])\n",
    "\n",
    "plt.show()\n"
   ]
  },
  {
   "cell_type": "markdown",
   "metadata": {},
   "source": [
    "## Ejercicio 4.c\n",
    "Conociendo la funcion inversa de la distribucion y una muestra $(u_{1}, u_{2},..., u_{n})$ de $n$ variables\n",
    "aleatorias iid uniformes en el intervalo [0;1], facil generar muestras de X mediante la transformacion\n",
    "definida por $F^{-1}_{X}(x)$ ."
   ]
  },
  {
   "cell_type": "code",
   "execution_count": 58,
   "metadata": {
    "pycharm": {
     "name": "#%%\n"
    }
   },
   "outputs": [],
   "source": [
    "#Importamos las funciones del ejercicio 1\n",
    "modulo = 2**32\n",
    "multiplicador = 1013904223\n",
    "incremento = 1664525\n",
    "semilla = int((101503+103856+104258+102995)/4)\n",
    "\n",
    "def generarRandomNormalizada(n):\n",
    "    x = semilla\n",
    "    result = []\n",
    "    for i in range(n):\n",
    "        result.append(x/modulo)\n",
    "        x = (x * multiplicador + incremento) % modulo\n",
    "    return result"
   ]
  },
  {
   "cell_type": "code",
   "execution_count": 59,
   "metadata": {
    "pycharm": {
     "name": "#%%\n"
    }
   },
   "outputs": [
    {
     "data": {
      "text/plain": "<Figure size 432x288 with 1 Axes>",
      "image/png": "[encoded data removed]"
     },
     "metadata": {
      "needs_background": "light"
     },
     "output_type": "display_data"
    },
    {
     "data": {
      "text/plain": "<Figure size 432x288 with 1 Axes>",
      "image/png": "[encoded data removed]"
     },
     "metadata": {
      "needs_background": "light"
     },
     "output_type": "display_data"
    }
   ],
   "source": [
    "n = 100000\n",
    "U = generarRandomNormalizada(n)\n",
    "X = []\n",
    "for i in range(len(U)):\n",
    "   X.append(F_inversa(U[i]))\n",
    "plt.hist(X, bins=np.arange(0,10,0.25))\n",
    "plt.title('Histograma de la muestra generada por el GCL definido en el ej 1', size=15)\n",
    "plt.tight_layout()\n",
    "plt.xlabel('X')\n",
    "plt.ylabel('Cantidad de muestras')\n",
    "plt.grid(True)\n",
    "plt.show()\n",
    "\n",
    "plt.figure()\n",
    "X = np.sort(X)\n",
    "y = np.arange(1,n+1)/n\n",
    "plt.title('Funcion de Distribucion Empirica')\n",
    "plt.xlabel('X')\n",
    "plt.ylabel('P(X<=x)')\n",
    "plt.scatter(X, y)\n",
    "plt.show()"
   ]
  },
  {
   "cell_type": "markdown",
   "source": [
    "Se observa entonces una gran similutud entre el histograma de la muestra y su funcion de densidad de probabilidad;\n",
    "y por lo tanto tambien una gran similitud entre las funciones de acumulacion de probabilidad.\n"
   ],
   "metadata": {
    "collapsed": false,
    "pycharm": {
     "name": "#%% md\n"
    }
   }
  }
 ],
 "metadata": {
  "colab": {
   "name": "ejercicio4.ipynb",
   "provenance": []
  },
  "kernelspec": {
   "display_name": "PyCharm (tp1)",
   "language": "python",
   "name": "pycharm-afc0bbfb"
  },
  "language_info": {
   "codemirror_mode": {
    "name": "ipython",
    "version": 3
   },
   "file_extension": ".py",
   "mimetype": "text/x-python",
   "name": "python",
   "nbconvert_exporter": "python",
   "pygments_lexer": "ipython3",
   "version": "3.6.9"
  }
 },
 "nbformat": 4,
 "nbformat_minor": 1
}