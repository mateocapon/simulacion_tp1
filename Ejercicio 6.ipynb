{
  "nbformat": 4,
  "nbformat_minor": 0,
  "metadata": {
    "colab": {
      "name": "Ejercicio 6.ipynb",
      "provenance": [],
      "collapsed_sections": [],
      "authorship_tag": "ABX9TyP6X7LywK6xaC1WifjXJ6c2",
      "include_colab_link": true
    },
    "kernelspec": {
      "name": "python3",
      "display_name": "Python 3"
    }
  },
  "cells": [
    {
      "cell_type": "markdown",
      "metadata": {
        "id": "view-in-github",
        "colab_type": "text"
      },
      "source": [
        "<a href=\"https://colab.research.google.com/github/mateocapon/simulacion_tp1/blob/main/Ejercicio%206.ipynb\" target=\"_parent\"><img src=\"https://colab.research.google.com/assets/colab-badge.svg\" alt=\"Open In Colab\"/></a>"
      ]
    },
    {
      "cell_type": "markdown",
      "metadata": {
        "id": "TXK-xH1B2f8Z"
      },
      "source": [
        "# Ejercicio 6"
      ]
    },
    {
      "cell_type": "markdown",
      "metadata": {
        "id": "Rp22YTbl8YMq"
      },
      "source": [
        "Aplicando el algoritmo de Aceptación y rechazo se pide:\n",
        "\n",
        "a) Generar 2 distribuciones normales independientes. Una con media 10 y desvío 2, y la otra con media 20 y desvío 15 \n",
        "\n",
        "b) Muestre gráficamente las distribuciones de números al azar generadas.\n",
        "\n",
        "c) Calcular la media y la varianza de la distribución obtenida y compararlos con los valores teóricos.\n",
        "\n",
        "d) Utilizar las distribuciones generadas en el punto a) para generar una distribución normal bivariada.\n",
        "\n",
        "e) Graficar la distribución obtenida en el punto d)."
      ]
    },
    {
      "cell_type": "markdown",
      "metadata": {
        "id": "qGDtkbMcE5Hb"
      },
      "source": [
        "##Ejercicio 6 a)"
      ]
    },
    {
      "cell_type": "code",
      "metadata": {
        "id": "B5dSZxB9BwT4",
        "outputId": "51c16b9c-b931-4a25-f7e7-339909612f3c",
        "colab": {
          "base_uri": "https://localhost:8080/",
          "height": 329
        }
      },
      "source": [
        "import numpy as np\n",
        "import matplotlib.pyplot as plt\n",
        "N=100000\n",
        "U1=np.random.rand(N)\n",
        "U2=np.random.rand(N)\n",
        "S=np.random.rand(N)\n",
        "X=[]\n",
        "X11=[]\n",
        "\n",
        "def f1(u):\n",
        " return -1*np.log(U1[i])\n",
        "\n",
        "def f2(x):\n",
        " return np.exp(-1/2 * (x-1)**2 ) \n",
        "\n",
        "def f3(x,m,v):\n",
        "  return x*np.sqrt(v)+m\n",
        "\n",
        "for i in range (N):\n",
        "  X1=f1(U1[i])\n",
        "  if (U2[i] <=f2(X1)):\n",
        "    X11.append(X1)\n",
        "    if S[i] <= 0.5:\n",
        "      X.append(X1)\n",
        "    else:\n",
        "       X.append(-1*X1)\n",
        " \n",
        "\n",
        "plt.hist(X11,'sturges',color='orange',density= True)\n",
        "plt.title('Histograma de X1')\n",
        "plt.xlabel ('X1')\n",
        "plt.show()\n",
        "print ('Media: ',np.mean(X))\n",
        "print ('Varianza: ',np.var(X))\n"
      ],
      "execution_count": null,
      "outputs": [
        {
          "output_type": "display_data",
          "data": {
            "image/png": "[encoded data removed]",
            "text/plain": [
              "<Figure size 432x288 with 1 Axes>"
            ]
          },
          "metadata": {
            "tags": [],
            "needs_background": "light"
          }
        },
        {
          "output_type": "stream",
          "text": [
            "Media:  0.00595204367757526\n",
            "Varianza:  0.9924798332967991\n"
          ],
          "name": "stdout"
        }
      ]
    },
    {
      "cell_type": "markdown",
      "metadata": {
        "id": "XXHfNpEnwSGO"
      },
      "source": [
        "###Distribucion Normal (10, 2)"
      ]
    },
    {
      "cell_type": "code",
      "metadata": {
        "id": "eUAJjUX3uzYx",
        "outputId": "f68481fa-06a3-4d9a-c812-8128d8a3751b",
        "colab": {
          "base_uri": "https://localhost:8080/",
          "height": 329
        }
      },
      "source": [
        "\n",
        "b = 10\n",
        "c = 2**2\n",
        "\n",
        "Z = []\n",
        "for i in X:\n",
        "  Z.append (f3(i,b,c))\n",
        "\n",
        "plt.hist( Z,'sturges',density= True)\n",
        "plt.title('Histograma de X')\n",
        "plt.xlabel ('X')\n",
        "plt.show()\n",
        "print ('Media: ',np.mean(Z))\n",
        "print ('Varianza: ',np.var(Z))\n"
      ],
      "execution_count": null,
      "outputs": [
        {
          "output_type": "display_data",
          "data": {
            "image/png": "[encoded data removed]",
            "text/plain": [
              "<Figure size 432x288 with 1 Axes>"
            ]
          },
          "metadata": {
            "tags": [],
            "needs_background": "light"
          }
        },
        {
          "output_type": "stream",
          "text": [
            "Media:  10.013934418955765\n",
            "Varianza:  4.009899228667559\n"
          ],
          "name": "stdout"
        }
      ]
    },
    {
      "cell_type": "markdown",
      "metadata": {
        "id": "COHVaw6YwXo5"
      },
      "source": [
        "###Distribucion Normal (20, 15)"
      ]
    },
    {
      "cell_type": "code",
      "metadata": {
        "id": "6C8eDLYxwcoA",
        "outputId": "ec9e6021-cbad-488c-a13a-86e50d22621b",
        "colab": {
          "base_uri": "https://localhost:8080/",
          "height": 329
        }
      },
      "source": [
        "b = 20\n",
        "c = 15**2\n",
        "\n",
        "Z = []\n",
        "for i in X:\n",
        "  Z.append (f3(i,b,c))\n",
        "\n",
        "plt.hist( Z,'sturges',density= True)\n",
        "plt.title('Histograma de X')\n",
        "plt.xlabel ('X')\n",
        "plt.show()\n",
        "print ('Media: ',np.mean(Z))\n",
        "print ('Varianza: ',np.var(Z))"
      ],
      "execution_count": null,
      "outputs": [
        {
          "output_type": "display_data",
          "data": {
            "image/png": "[encoded data removed]",
            "text/plain": [
              "<Figure size 432x288 with 1 Axes>"
            ]
          },
          "metadata": {
            "tags": [],
            "needs_background": "light"
          }
        },
        {
          "output_type": "stream",
          "text": [
            "Media:  20.10450814216825\n",
            "Varianza:  225.55683161255024\n"
          ],
          "name": "stdout"
        }
      ]
    },
    {
      "cell_type": "markdown",
      "metadata": {
        "id": "MQFSoosex3H5"
      },
      "source": [
        "## Ejercicio 6 c)\n",
        "\n",
        "c) Calcular la media y la varianza de la distribución obtenida y compararlos con los valores teóricos."
      ]
    },
    {
      "cell_type": "markdown",
      "metadata": {
        "id": "BFnHAmkHyPcm"
      },
      "source": [
        "Para verificar los valores obtenidos de la media y la varianza, primero se aumenta y luego se disminuye el tamaño de la muestra y comparamos los resultados"
      ]
    },
    {
      "cell_type": "code",
      "metadata": {
        "id": "sPS37koyy5Vw",
        "outputId": "39d5c10d-c219-4a8e-9772-9dc128710821",
        "colab": {
          "base_uri": "https://localhost:8080/",
          "height": 329
        }
      },
      "source": [
        "# Aumentamos el tamaño de las muestras de 100000 a 1500000\n",
        "import numpy as np\n",
        "import matplotlib.pyplot as plt\n",
        "N=1500000\n",
        "U1=np.random.rand(N)\n",
        "U2=np.random.rand(N)\n",
        "S=np.random.rand(N)\n",
        "X=[]\n",
        "X11=[]\n",
        "\n",
        "def f1(u):\n",
        " return -1*np.log(U1[i])\n",
        "\n",
        "def f2(x):\n",
        " return np.exp(-1/2 * (x-1)**2 ) \n",
        "\n",
        "def f3(x,m,v):\n",
        "  return x*np.sqrt(v)+m\n",
        "\n",
        "for i in range (N):\n",
        "  X1=f1(U1[i])\n",
        "  if (U2[i] <=f2(X1)):\n",
        "    X11.append(X1)\n",
        "    if S[i] <= 0.5:\n",
        "      X.append(X1)\n",
        "    else:\n",
        "       X.append(-1*X1)\n",
        " \n",
        "\n",
        "plt.hist(X11,'sturges',color='orange',density= True)\n",
        "plt.title('Histograma de X1')\n",
        "plt.xlabel ('X1')\n",
        "plt.show()\n",
        "print ('Media: ',np.mean(X))\n",
        "print ('Varianza: ',np.var(X))\n",
        "\n"
      ],
      "execution_count": null,
      "outputs": [
        {
          "output_type": "display_data",
          "data": {
            "image/png": "[encoded data removed]",
            "text/plain": [
              "<Figure size 432x288 with 1 Axes>"
            ]
          },
          "metadata": {
            "tags": [],
            "needs_background": "light"
          }
        },
        {
          "output_type": "stream",
          "text": [
            "Media:  -0.0002974862142675003\n",
            "Varianza:  0.9992879285922711\n"
          ],
          "name": "stdout"
        }
      ]
    },
    {
      "cell_type": "code",
      "metadata": {
        "id": "KCUNBhAHzhXc",
        "outputId": "bed38995-24ca-414b-8fcf-604fc9265dde",
        "colab": {
          "base_uri": "https://localhost:8080/",
          "height": 329
        }
      },
      "source": [
        "# Primero lo realizamos para la distribucion normal (10, 2)\n",
        "b = 10\n",
        "c = 2**2\n",
        "\n",
        "Z = []\n",
        "for i in X:\n",
        "  Z.append (f3(i,b,c))\n",
        "\n",
        "plt.hist( Z,'sturges',density= True)\n",
        "plt.title('Histograma de X')\n",
        "plt.xlabel ('X')\n",
        "plt.show()\n",
        "print ('Media: ',np.mean(Z))\n",
        "print ('Varianza: ',np.var(Z))"
      ],
      "execution_count": null,
      "outputs": [
        {
          "output_type": "display_data",
          "data": {
            "image/png": "[encoded data removed]",
            "text/plain": [
              "<Figure size 432x288 with 1 Axes>"
            ]
          },
          "metadata": {
            "tags": [],
            "needs_background": "light"
          }
        },
        {
          "output_type": "stream",
          "text": [
            "Media:  10.013934418955765\n",
            "Varianza:  4.009899228667559\n"
          ],
          "name": "stdout"
        }
      ]
    },
    {
      "cell_type": "code",
      "metadata": {
        "id": "Ts1RIR4vz8TT",
        "outputId": "055e6f6e-ef8f-4e0e-902a-502c35b72d75",
        "colab": {
          "base_uri": "https://localhost:8080/",
          "height": 329
        }
      },
      "source": [
        "# Ahora lo realizamos para la distribucion normal (20, 15)\n",
        "b = 20\n",
        "c = 15**2\n",
        "\n",
        "Z = []\n",
        "for i in X:\n",
        "  Z.append (f3(i,b,c))\n",
        "\n",
        "plt.hist( Z,'sturges',density= True)\n",
        "plt.title('Histograma de X')\n",
        "plt.xlabel ('X')\n",
        "plt.show()\n",
        "print ('Media: ',np.mean(Z))\n",
        "print ('Varianza: ',np.var(Z))"
      ],
      "execution_count": null,
      "outputs": [
        {
          "output_type": "display_data",
          "data": {
            "image/png": "[encoded data removed]",
            "text/plain": [
              "<Figure size 432x288 with 1 Axes>"
            ]
          },
          "metadata": {
            "tags": [],
            "needs_background": "light"
          }
        },
        {
          "output_type": "stream",
          "text": [
            "Media:  20.10450814216825\n",
            "Varianza:  225.55683161255024\n"
          ],
          "name": "stdout"
        }
      ]
    },
    {
      "cell_type": "markdown",
      "metadata": {
        "id": "E1RM3Rva0FSR"
      },
      "source": [
        "Como se puede observar, al aumentar la cantidad de muestras, los valores de la media y el desvio se mantienen ceranos a los teoricos"
      ]
    },
    {
      "cell_type": "code",
      "metadata": {
        "id": "klRH4dEg0V5u",
        "outputId": "a5d47ffe-2a4f-4c93-ac1e-6dd520817365",
        "colab": {
          "base_uri": "https://localhost:8080/",
          "height": 329
        }
      },
      "source": [
        "# Disminuimos el tamaño de las muestras de 100000 a 50000\n",
        "import numpy as np\n",
        "import matplotlib.pyplot as plt\n",
        "N=50000\n",
        "U1=np.random.rand(N)\n",
        "U2=np.random.rand(N)\n",
        "S=np.random.rand(N)\n",
        "X=[]\n",
        "X11=[]\n",
        "\n",
        "def f1(u):\n",
        " return -1*np.log(U1[i])\n",
        "\n",
        "def f2(x):\n",
        " return np.exp(-1/2 * (x-1)**2 ) \n",
        "\n",
        "def f3(x,m,v):\n",
        "  return x*np.sqrt(v)+m\n",
        "\n",
        "for i in range (N):\n",
        "  X1=f1(U1[i])\n",
        "  if (U2[i] <=f2(X1)):\n",
        "    X11.append(X1)\n",
        "    if S[i] <= 0.5:\n",
        "      X.append(X1)\n",
        "    else:\n",
        "       X.append(-1*X1)\n",
        " \n",
        "\n",
        "plt.hist(X11,'sturges',color='orange',density= True)\n",
        "plt.title('Histograma de X1')\n",
        "plt.xlabel ('X1')\n",
        "plt.show()\n",
        "print ('Media: ',np.mean(X))\n",
        "print ('Varianza: ',np.var(X))\n",
        "\n"
      ],
      "execution_count": null,
      "outputs": [
        {
          "output_type": "display_data",
          "data": {
            "image/png": "[encoded data removed]",
            "text/plain": [
              "<Figure size 432x288 with 1 Axes>"
            ]
          },
          "metadata": {
            "tags": [],
            "needs_background": "light"
          }
        },
        {
          "output_type": "stream",
          "text": [
            "Media:  0.006967209477883357\n",
            "Varianza:  1.0024748071668899\n"
          ],
          "name": "stdout"
        }
      ]
    },
    {
      "cell_type": "code",
      "metadata": {
        "id": "rBkbiAnP0kxJ",
        "outputId": "1066a58e-e7fa-4d72-8d40-4218252dd7ee",
        "colab": {
          "base_uri": "https://localhost:8080/",
          "height": 329
        }
      },
      "source": [
        "# Primero lo realizamos para la distribucion normal (10, 2)\n",
        "b = 10\n",
        "c = 2**2\n",
        "\n",
        "Z = []\n",
        "for i in X:\n",
        "  Z.append (f3(i,b,c))\n",
        "\n",
        "plt.hist( Z,'sturges',density= True)\n",
        "plt.title('Histograma de X')\n",
        "plt.xlabel ('X')\n",
        "plt.show()\n",
        "print ('Media: ',np.mean(Z))\n",
        "print ('Varianza: ',np.var(Z))"
      ],
      "execution_count": null,
      "outputs": [
        {
          "output_type": "display_data",
          "data": {
            "image/png": "[encoded data removed]",
            "text/plain": [
              "<Figure size 432x288 with 1 Axes>"
            ]
          },
          "metadata": {
            "tags": [],
            "needs_background": "light"
          }
        },
        {
          "output_type": "stream",
          "text": [
            "Media:  10.013934418955765\n",
            "Varianza:  4.009899228667559\n"
          ],
          "name": "stdout"
        }
      ]
    },
    {
      "cell_type": "code",
      "metadata": {
        "id": "9ICvAMbq0nxh",
        "outputId": "201c3387-df23-4270-a732-200c2adb1953",
        "colab": {
          "base_uri": "https://localhost:8080/",
          "height": 329
        }
      },
      "source": [
        "# Ahora lo realizamos para la distribucion normal (20, 15)\n",
        "b = 20\n",
        "c = 15**2\n",
        "\n",
        "Z = []\n",
        "for i in X:\n",
        "  Z.append (f3(i,b,c))\n",
        "\n",
        "plt.hist( Z,'sturges',density= True)\n",
        "plt.title('Histograma de X')\n",
        "plt.xlabel ('X')\n",
        "plt.show()\n",
        "print ('Media: ',np.mean(Z))\n",
        "print ('Varianza: ',np.var(Z))"
      ],
      "execution_count": null,
      "outputs": [
        {
          "output_type": "display_data",
          "data": {
            "image/png": "[encoded data removed]",
            "text/plain": [
              "<Figure size 432x288 with 1 Axes>"
            ]
          },
          "metadata": {
            "tags": [],
            "needs_background": "light"
          }
        },
        {
          "output_type": "stream",
          "text": [
            "Media:  20.10450814216825\n",
            "Varianza:  225.55683161255024\n"
          ],
          "name": "stdout"
        }
      ]
    },
    {
      "cell_type": "markdown",
      "metadata": {
        "id": "2J0V4hoH0von"
      },
      "source": [
        "Como se puede observar, al disminuir la cantidad de muestras, los valores de la media y el desvio se mantienen ceranos a los teoricos"
      ]
    },
    {
      "cell_type": "markdown",
      "metadata": {
        "id": "_hoRR3Ep03bY"
      },
      "source": [
        "Finalmente, en ambos casos, tanto la media, como la varianza se mantienen fieles a los valores teoricos esperados"
      ]
    },
    {
      "cell_type": "markdown",
      "metadata": {
        "id": "qlPscd5BIfiq"
      },
      "source": [
        "##Ejercicio 6 d)"
      ]
    },
    {
      "cell_type": "markdown",
      "metadata": {
        "id": "-MrwAu85ImUE"
      },
      "source": [
        "d) Utilizar las distribuciones generadas en el punto a) para generar una distribución normal bivariada.\n",
        "\n",
        "Como Z_1 y Z_2 están normalmente distribuidas y son independientes, su distribución conjunta también está normalmente distribuida, es decir, el par (X, Y) debe tener una distribución normal bivariada.\n",
        "\n",
        "Siendo Z_1 la distribucion normal (10, 2) y Z_2 la distribucion normal (20, 15) "
      ]
    },
    {
      "cell_type": "code",
      "metadata": {
        "id": "cxopcBkIIzSH",
        "outputId": "73eaabaa-3e88-497d-ba5d-7d2a20026fba",
        "colab": {
          "base_uri": "https://localhost:8080/",
          "height": 329
        }
      },
      "source": [
        "import numpy as np\n",
        "import matplotlib.pyplot as plt\n",
        "N=1000000\n",
        "U1=np.random.rand(N)\n",
        "U2=np.random.rand(N)\n",
        "S=np.random.rand(N)\n",
        "X=[]\n",
        "X11=[]\n",
        "\n",
        "def f1(u):\n",
        " return -1*np.log(U1[i])\n",
        "\n",
        "def f2(x):\n",
        " return np.exp(-1/2 * (x-1)**2 ) \n",
        "\n",
        "def f3(x,m,v):\n",
        "  return x*np.sqrt(v)+m\n",
        "\n",
        "for i in range (N):\n",
        "  X1=f1(U1[i])\n",
        "  if (U2[i] <=f2(X1)):\n",
        "    X11.append(X1)\n",
        "    if S[i] <= 0.5:\n",
        "      X.append(X1)\n",
        "    else:\n",
        "       X.append(-1*X1)\n",
        " \n",
        "\n",
        "plt.hist(X11,'sturges',color='orange',density= True)\n",
        "plt.title('Histograma de X1')\n",
        "plt.xlabel ('X1')\n",
        "plt.show()\n",
        "print ('Media: ',np.mean(X))\n",
        "print ('Varianza: ',np.var(X))\n"
      ],
      "execution_count": null,
      "outputs": [
        {
          "output_type": "display_data",
          "data": {
            "image/png": "[encoded data removed]",
            "text/plain": [
              "<Figure size 432x288 with 1 Axes>"
            ]
          },
          "metadata": {
            "tags": [],
            "needs_background": "light"
          }
        },
        {
          "output_type": "stream",
          "text": [
            "Media:  4.577749616311298e-05\n",
            "Varianza:  0.9999420353700798\n"
          ],
          "name": "stdout"
        }
      ]
    },
    {
      "cell_type": "markdown",
      "metadata": {
        "id": "iPzOe1iXPJCG"
      },
      "source": [
        "### Distribuciones generadas en el punto a)"
      ]
    },
    {
      "cell_type": "code",
      "metadata": {
        "id": "a3cVux0mI_nw",
        "outputId": "bfdd71dc-9998-40f4-eac6-e6d2ce9d1c03",
        "colab": {
          "base_uri": "https://localhost:8080/",
          "height": 329
        }
      },
      "source": [
        "#Normal (10, 2)\n",
        "b = 10\n",
        "c = 2**2\n",
        "\n",
        "Z_1 = []\n",
        "for i in X:\n",
        "  Z_1.append (f3(i,b,c))\n",
        "\n",
        "plt.hist( Z_1,'sturges',density= True)\n",
        "plt.title('Histograma de X')\n",
        "plt.xlabel ('X')\n",
        "plt.show()\n",
        "print ('Media: ',np.mean(Z_1))\n",
        "print ('Varianza: ',np.var(Z_1))"
      ],
      "execution_count": null,
      "outputs": [
        {
          "output_type": "display_data",
          "data": {
            "image/png": "[encoded data removed]",
            "text/plain": [
              "<Figure size 432x288 with 1 Axes>"
            ]
          },
          "metadata": {
            "tags": [],
            "needs_background": "light"
          }
        },
        {
          "output_type": "stream",
          "text": [
            "Media:  10.000091554992327\n",
            "Varianza:  3.999768141480319\n"
          ],
          "name": "stdout"
        }
      ]
    },
    {
      "cell_type": "code",
      "metadata": {
        "id": "AVWxkEcGJHRp",
        "outputId": "8329fc2e-2b83-425a-90c2-5f1f95c01dea",
        "colab": {
          "base_uri": "https://localhost:8080/",
          "height": 329
        }
      },
      "source": [
        "#Normal (20, 15)\n",
        "b = 20\n",
        "c = 15**2\n",
        "\n",
        "Z_2 = []\n",
        "for i in X:\n",
        "  Z_2.append (f3(i,b,c))\n",
        "\n",
        "plt.hist( Z_2,'sturges',density= True)\n",
        "plt.title('Histograma de X')\n",
        "plt.xlabel ('X')\n",
        "plt.show()\n",
        "print ('Media: ',np.mean(Z_2))\n",
        "print ('Varianza: ',np.var(Z_2))"
      ],
      "execution_count": null,
      "outputs": [
        {
          "output_type": "display_data",
          "data": {
            "image/png": "[encoded data removed]",
            "text/plain": [
              "<Figure size 432x288 with 1 Axes>"
            ]
          },
          "metadata": {
            "tags": [],
            "needs_background": "light"
          }
        },
        {
          "output_type": "stream",
          "text": [
            "Media:  20.000686662442458\n",
            "Varianza:  224.98695795826785\n"
          ],
          "name": "stdout"
        }
      ]
    },
    {
      "cell_type": "markdown",
      "metadata": {
        "id": "xA7nZVYdPObq"
      },
      "source": [
        "###Cálculo de la normal bivariada"
      ]
    },
    {
      "cell_type": "code",
      "metadata": {
        "id": "-7-NS3DiL2zy",
        "outputId": "61060f4b-a257-423c-a5e6-a485893e0441",
        "colab": {
          "base_uri": "https://localhost:8080/",
          "height": 265
        }
      },
      "source": [
        "#Para armar la distribucion bivariada, tengo que multiplicar las distribuciones Z_1 y Z_2\n",
        "#Como Z_1 y Z_2 están normalmente distribuidas y son independientes, \n",
        "#su distribución conjunta (la cual es el producto de las dos funciones de densidad, por ser independientes)\n",
        "#también está normalmente distribuida, es decir, el par (Z_1, Z_2) debe tener una distribución normal bivariada.\n",
        "\n",
        "#normal (10, 2)\n",
        "b_1 = 10\n",
        "c_1 = 2**2\n",
        "\n",
        "Z_1 = []\n",
        "for i in X:\n",
        "  Z_1.append (f3(i,b_1,c_1))\n",
        "\n",
        "#normal (20, 15)\n",
        "b_2 = 20\n",
        "c_2 = 15**2\n",
        "\n",
        "Z_2 = []\n",
        "for i in X:\n",
        "  Z_2.append (f3(i,b_2,c_2))\n",
        "\n",
        "Z=[]\n",
        "for i in X:\n",
        "  Z.append(f3(i,b_1,c_1)*f3(i,b_2,c_2))\n",
        "\n",
        "# Z deberia quedar Normal (10,20,2**2,15**2,0)\n",
        "\n",
        "plt.scatter(Z_1,Z_2,s=5)\n",
        "plt.show()\n"
      ],
      "execution_count": 13,
      "outputs": [
        {
          "output_type": "display_data",
          "data": {
            "image/png": "[encoded data removed]",
            "text/plain": [
              "<Figure size 432x288 with 1 Axes>"
            ]
          },
          "metadata": {
            "tags": [],
            "needs_background": "light"
          }
        }
      ]
    }
  ]
}