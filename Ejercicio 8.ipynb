{
 "cells": [
  {
   "cell_type": "code",
   "execution_count": 1,
   "metadata": {
    "executionInfo": {
     "elapsed": 889,
     "status": "ok",
     "timestamp": 1605105816194,
     "user": {
      "displayName": "Peter Mac Gaul",
      "photoUrl": "https://lh3.googleusercontent.com/a-/AOh14GhLYB0hQJrGeKY171wH6_C_qdfdNsTGhXQR6gjvVw=s64",
      "userId": "07015997770818509519"
     },
     "user_tz": 180
    },
    "id": "LAePYLYxZpXw"
   },
   "outputs": [],
   "source": [
    "import scipy\n",
    "import matplotlib.pyplot as plt\n",
    "import numpy as np\n",
    "import random\n",
    "import seaborn as sns\n",
    "\n",
    "import pandas as pd\n",
    "import imageio\n",
    "from IPython.display import clear_output\n",
    "\n",
    "import sys\n",
    "import os\n",
    "\n",
    "simulacion = 0"
   ]
  },
  {
   "cell_type": "markdown",
   "metadata": {
    "id": "v_vev9Vkthz4"
   },
   "source": [
    "## Generacion del tablero"
   ]
  },
  {
   "cell_type": "code",
   "execution_count": 2,
   "metadata": {
    "executionInfo": {
     "elapsed": 878,
     "status": "ok",
     "timestamp": 1605105816196,
     "user": {
      "displayName": "Peter Mac Gaul",
      "photoUrl": "https://lh3.googleusercontent.com/a-/AOh14GhLYB0hQJrGeKY171wH6_C_qdfdNsTGhXQR6gjvVw=s64",
      "userId": "07015997770818509519"
     },
     "user_tz": 180
    },
    "id": "-syOVlk-gvBK"
   },
   "outputs": [],
   "source": [
    "def generarTablero( cantCeldas, habitantes ):\n",
    "\n",
    "    \"\"\"\n",
    "    Genero un tablero de cantCeldas x cantCeldas    \n",
    "    \"\"\"\n",
    "\n",
    "    tableroInicial = []\n",
    "    tableroConLetras = []\n",
    "\n",
    "    for i in range(0,cantCeldas):\n",
    "        linea = np.random.rand(cantCeldas)\n",
    "        tableroInicial.append(linea)\n",
    "        tableroConLetras.append([0 for x in range(0,cantCeldas)])\n",
    "\n",
    "    print(\"Tablero generado de : \" + str(len(tableroInicial)) + \" x \" + str(len(tableroInicial[0])))\n",
    "\n",
    "    return inicializarTablero( tableroInicial, tableroConLetras, habitantes )\n",
    "\n",
    "\n",
    "\n",
    "def inicializarTablero(t, tablero, habitantes):\n",
    "    \"\"\"\n",
    "    Inicializo un tablero de cantCeldas x cantCeldas con valores entre [0,1]\n",
    "    \n",
    "    Devuelve un array de cantCeldas x cantCeldas con la representacion de personas [X,A,B,C]\n",
    "    \"\"\"\n",
    "\n",
    "    pHabitantes = habitantes/(len(t)*len(t))\n",
    "\n",
    "    pContagiados = 0.03*pHabitantes\n",
    "\n",
    "    habitantesGenerados = 0\n",
    "    habitantesGeneradosContagiados = 0\n",
    "\n",
    "    for i in range(0,len(tablero)):\n",
    "\n",
    "        for j in range(0,len(tablero[i])):\n",
    "\n",
    "            x = t[i][j]\n",
    "\n",
    "            if x <= pContagiados:\n",
    "                tablero[i][j] = \"X0\"\n",
    "                habitantesGeneradosContagiados += 1\n",
    "\n",
    "            elif x <= pHabitantes:\n",
    "                y = np.random.rand(1)\n",
    "                habitantesGenerados += 1\n",
    "\n",
    "                if y <= 0.7:\n",
    "                    tablero[i][j] = \"A\"\n",
    "                elif y <= 0.9:\n",
    "                    tablero[i][j] = \"B\"\n",
    "                else:\n",
    "                    tablero[i][j] = \"C\"\n",
    "                \n",
    "            else:\n",
    "                tablero[i][j] = \"-\"\n",
    "\n",
    "    print(\"Cantidad de celdas: \" + str(cant_celdas*cant_celdas))\n",
    "    print(\"Habitantes generados: \" + str(habitantesGenerados))\n",
    "    print(\"Habitantes generados contagiados: \" + str(habitantesGeneradosContagiados)) \n",
    "    print(\"Porcentaje inicia de poblacion contagiada: \" + str(habitantesGeneradosContagiados/habitantesGenerados) )\n",
    "    print(\"--------------------------------\")\n",
    "    \n",
    "    return tablero"
   ]
  },
  {
   "cell_type": "markdown",
   "metadata": {
    "id": "ooMio8Fbo7jZ"
   },
   "source": [
    "## Vemos como quedaria el mapa \n",
    "\n",
    "Donde:\n",
    "\n",
    "Xi - Contagiados durante i periodos de tiempo\n",
    "\n",
    "R - Persona recuperada\n",
    "\n",
    "A - Habitante de tipo A\n",
    "\n",
    "B - Habitante de tipo B\n",
    "\n",
    "C - Habitante de tipo C\n",
    "\n"
   ]
  },
  {
   "cell_type": "code",
   "execution_count": 3,
   "metadata": {
    "colab": {
     "base_uri": "https://localhost:8080/"
    },
    "executionInfo": {
     "elapsed": 1374,
     "status": "ok",
     "timestamp": 1605105816703,
     "user": {
      "displayName": "Peter Mac Gaul",
      "photoUrl": "https://lh3.googleusercontent.com/a-/AOh14GhLYB0hQJrGeKY171wH6_C_qdfdNsTGhXQR6gjvVw=s64",
      "userId": "07015997770818509519"
     },
     "user_tz": 180
    },
    "id": "KhlF_AFOYRri",
    "outputId": "ac08f0dc-a8b6-4192-dee9-1fefab91af01"
   },
   "outputs": [
    {
     "name": "stdout",
     "output_type": "stream",
     "text": [
      "Tablero generado de : 250 x 250\n",
      "Cantidad de celdas: 62500\n",
      "Habitantes generados: 9663\n",
      "Habitantes generados contagiados: 310\n",
      "Porcentaje inicia de poblacion contagiada: 0.03208113422332609\n",
      "--------------------------------\n",
      "Cantidad de personas en el mapa: \n",
      "{'A': 6808, '-': 52527, 'B': 1892, 'C': 963, 'X0': 310}\n",
      "--------------------------------\n",
      "\n",
      "    0   1   2   3   4   5   6   7   8   9    ... 240 241 242 243 244 245 246  \\\n",
      "0     A   -   -   -   -   A   -   -   -   -  ...   -   B   A   -   -   -   A   \n",
      "1     -   -   -   -   -   -   A   -   -   -  ...   -   -   -   C   -   -   -   \n",
      "2     C   -   -   -   -   -   A   -   -   -  ...   -   A   -   -   -   -   -   \n",
      "3     -   -   -   -   -   -   -   A   A   -  ...   -   -   -   -   -   -   -   \n",
      "4     -   -   -   -   -   -   A   -   -   -  ...   -   -   -   -   A   -   -   \n",
      "..   ..  ..  ..  ..  ..  ..  ..  ..  ..  ..  ...  ..  ..  ..  ..  ..  ..  ..   \n",
      "245   -   -   -   -   A   -   -   -   -   A  ...   A   A   -   -   -   -   -   \n",
      "246   -   B   -   -   A   A   -   A   -   -  ...   C   -   B   -   -   -   -   \n",
      "247   -   B   C   -   -   A   -   -   -   -  ...   -   -   -   -   -   -   -   \n",
      "248   -   -   -   -   -   A   A   -   -   -  ...   -   A   -   -   A   -   -   \n",
      "249   A   C   -   -   B   -   -   -   A   -  ...   -   -   -   A   -   -   A   \n",
      "\n",
      "    247 248 249  \n",
      "0     C   -   A  \n",
      "1     -   -   -  \n",
      "2     A   -   -  \n",
      "3     -   -   -  \n",
      "4     -   A   -  \n",
      "..   ..  ..  ..  \n",
      "245   -   -   -  \n",
      "246   -   -   -  \n",
      "247   -   -   -  \n",
      "248   -   -   -  \n",
      "249   -   A   -  \n",
      "\n",
      "[250 rows x 250 columns]\n"
     ]
    }
   ],
   "source": [
    "metros = 100\n",
    "tamaño_celda = 0.4\n",
    "\n",
    "cant_celdas = int( metros/tamaño_celda )\n",
    "\n",
    "habitantes = 10000\n",
    "\n",
    "mapa = generarTablero( cant_celdas, habitantes )\n",
    "\n",
    "df = pd.DataFrame(data=mapa)\n",
    "\n",
    "frequencies = {}\n",
    "for item in df.values.ravel():\n",
    "    if item in frequencies:\n",
    "        frequencies[item] += 1\n",
    "    else:\n",
    "        frequencies[item] = 1\n",
    "\n",
    "print(\"Cantidad de personas en el mapa: \")\n",
    "print(frequencies)\n",
    "\n",
    "print(\"--------------------------------\\n\")\n",
    "\n",
    "print(df)"
   ]
  },
  {
   "cell_type": "markdown",
   "metadata": {
    "id": "B04xti0ftl5I"
   },
   "source": [
    "## Movimiento por iteraciones"
   ]
  },
  {
   "cell_type": "code",
   "execution_count": 36,
   "metadata": {
    "executionInfo": {
     "elapsed": 1365,
     "status": "ok",
     "timestamp": 1605105816704,
     "user": {
      "displayName": "Peter Mac Gaul",
      "photoUrl": "https://lh3.googleusercontent.com/a-/AOh14GhLYB0hQJrGeKY171wH6_C_qdfdNsTGhXQR6gjvVw=s64",
      "userId": "07015997770818509519"
     },
     "user_tz": 180
    },
    "id": "szg-NNdftZu4"
   },
   "outputs": [],
   "source": [
    "def randomWalk(r):\n",
    "    \"\"\"Dado un numero random entre [0,1] devuelvo una tupla con valores\"\"\"\n",
    "    if r < 0.25:\n",
    "        return (0,1)\n",
    "    if r < 0.5:\n",
    "        return (1,0)\n",
    "    if r < 0.75:\n",
    "        return (-1,0)\n",
    "    else:\n",
    "        return (0,-1)\n",
    "\n",
    "\n",
    "def moverPersonas( tablero, seMueveB, seMueveC, medidasGovierno, recuperacion, pRecuperacion, pInmunizar ):\n",
    "    \"\"\"Recorro el tablero moviendo a las personas de manera random y buscando las zonas de contagio\"\"\"    \n",
    "    for i in range(0,len(tablero)):\n",
    "        for j in range(0,len(tablero[i])):\n",
    "\n",
    "            r = np.random.random()\n",
    "\n",
    "            if tablero[i][j] == \"A\":\n",
    "                movimiento = randomWalk(r)\n",
    "                reemplazar(tablero, i, j, movimiento, \"A\")\n",
    "\n",
    "            elif seMueveB and tablero[i][j] == \"B\":\n",
    "                movimiento = randomWalk(r)\n",
    "                reemplazar(tablero, i, j, movimiento, \"B\")\n",
    "\n",
    "            elif seMueveC and tablero[i][j] == \"C\":\n",
    "                movimiento = randomWalk(r)\n",
    "                reemplazar(tablero, i, j, movimiento, \"C\")\n",
    "\n",
    "            elif tablero[i][j][0] == 'X':\n",
    "\n",
    "                instante = int( tablero[i][j][1:] )\n",
    "\n",
    "                if instante >= 0:\n",
    "                    contagiarPersonas( tablero, i, j, medidasGovierno )\n",
    "\n",
    "                instante += 1\n",
    "\n",
    "                tablero[i][j] = \"X\"+ str(instante)\n",
    "                \n",
    "                if instante >= recuperacion:                    \n",
    "                    if r < pRecuperacion:\n",
    "                        darDeAlta( tablero, i, j, pInmunizar )\n",
    "    \n",
    "\n",
    "def verificarMovimiento( t, i, j, movimiento ):\n",
    "    \"\"\"Checkeo que no haya nadie en la pos a mover\"\"\"\n",
    "    x = i + movimiento[0]\n",
    "    y = j + movimiento[1]\n",
    "\n",
    "    if x < 0 or x >= 250 or y < 0 or y >= 250:\n",
    "        return False\n",
    "\n",
    "    if t[x][y] == \"-\" :\n",
    "        return True\n",
    "\n",
    "    return False\n",
    "\n",
    "\n",
    "def reemplazar( t, i, j, movimiento, caracter ):\n",
    "    \"\"\"Reemplazo a un lugar vacio por una persona\"\"\"\n",
    "    x = i + movimiento[0]\n",
    "    y = j + movimiento[1]\n",
    "\n",
    "    if verificarMovimiento( t, i, j, movimiento ):    \n",
    "        t[i][j] = \"-\"\n",
    "        t[x][y] = caracter\n",
    "        return (x,y)    \n",
    "    return (i,j)\n"
   ]
  },
  {
   "cell_type": "markdown",
   "metadata": {
    "id": "upXUJ63Jtp-P"
   },
   "source": [
    "## Contagios"
   ]
  },
  {
   "cell_type": "code",
   "execution_count": 28,
   "metadata": {
    "executionInfo": {
     "elapsed": 1360,
     "status": "ok",
     "timestamp": 1605105816708,
     "user": {
      "displayName": "Peter Mac Gaul",
      "photoUrl": "https://lh3.googleusercontent.com/a-/AOh14GhLYB0hQJrGeKY171wH6_C_qdfdNsTGhXQR6gjvVw=s64",
      "userId": "07015997770818509519"
     },
     "user_tz": 180
    },
    "id": "IstMwfjgiM7v"
   },
   "outputs": [],
   "source": [
    "def darDeAlta( t, i, j, pNoVolverseAContagiar ):\n",
    "    r = np.random.random()\n",
    "\n",
    "    if r < pNoVolverseAContagiar:\n",
    "        t[i][j] = \"R\"\n",
    "    else:\n",
    "        t[i][j] = np.random.choice([\"A\",\"B\",\"C\"],p=[0.7, 0.2, 0.1])\n",
    "\n",
    "def contagiarPersonas( t, x, y, medidasGovierno ):\n",
    "    \"\"\" Si hay alguien contagiado busco las 5 casillas al rededor y veo si contagio a esa persona \"\"\"\n",
    "    for i in range(-4,5):\n",
    "        \n",
    "        if (x+i < 0 or x+i >= 250):\n",
    "            continue\n",
    "\n",
    "        for j in range(-4,5):\n",
    "         \n",
    "            if (i == 0 and j == 0) or y+j < 0 or y+j >=250:\n",
    "                continue\n",
    "         \n",
    "            if t[x+i][y+j] in [\"A\",\"B\",\"C\"]:\n",
    "                r = np.random.random()\n",
    "                if r < (0.65 - medidasGovierno):\n",
    "                    contagiar( t, x+i, y+j )\n",
    "\n",
    "\n",
    "\n",
    "def contagiar( tablero, x, y ):\n",
    "    tablero[x][y] = \"X-1\"\n"
   ]
  },
  {
   "cell_type": "markdown",
   "metadata": {
    "id": "gxK_ToBDtuH0"
   },
   "source": [
    "## Realizacion de conteo"
   ]
  },
  {
   "cell_type": "code",
   "execution_count": 29,
   "metadata": {
    "executionInfo": {
     "elapsed": 1354,
     "status": "ok",
     "timestamp": 1605105816709,
     "user": {
      "displayName": "Peter Mac Gaul",
      "photoUrl": "https://lh3.googleusercontent.com/a-/AOh14GhLYB0hQJrGeKY171wH6_C_qdfdNsTGhXQR6gjvVw=s64",
      "userId": "07015997770818509519"
     },
     "user_tz": 180
    },
    "id": "UgNLE7DYn28Z"
   },
   "outputs": [],
   "source": [
    "def realizarConteo(tablero):\n",
    "    habitantesSanos = 0\n",
    "    habitantesContagiados = 0\n",
    "    habitantesRecuperados = 0\n",
    "\n",
    "    df = pd.DataFrame(data=mapa)\n",
    "\n",
    "    frequencies = {}\n",
    "    for item in df.values.ravel():\n",
    "        if item in frequencies:\n",
    "            frequencies[item] += 1\n",
    "        else:\n",
    "            frequencies[item] = 1\n",
    "    \n",
    "    for key, value in frequencies.items():\n",
    "        if key in [\"A\",\"B\",\"C\"]:\n",
    "            habitantesSanos += value\n",
    "        elif \"X\" in key:\n",
    "            habitantesContagiados += value\n",
    "        elif key == \"R\":\n",
    "            habitantesRecuperados = value\n",
    "\n",
    "\n",
    "    habitantes = habitantesSanos+habitantesContagiados+habitantesRecuperados\n",
    "            \n",
    "    print(\"Habitantes: \" + str(habitantes) )\n",
    "    print(\"Habitantes sanos: \" + str(habitantesSanos) )\n",
    "    print(\"Habitantes contagiados: \" + str(habitantesContagiados) )\n",
    "    print(\"Habitantes inmunizados: \" + str(habitantesRecuperados) )\n",
    "    print(\"----------------------------\")\n",
    "    print(\"Porcentaje de poblacion sana: \" + str(habitantesSanos/habitantes) )\n",
    "    print(\"Porcentaje de poblacion contagiada: \" + str(habitantesContagiados/habitantes) )\n",
    "    print(\"Porcentaje de poblacion inmunizados: \" + str(habitantesRecuperados/habitantes) )\n",
    "    return ( habitantesSanos, habitantesContagiados, habitantesRecuperados, habitantesSanos+habitantesRecuperados )\n"
   ]
  },
  {
   "cell_type": "markdown",
   "metadata": {
    "id": "CcCzpnAO5djq"
   },
   "source": [
    "# Simulacion 1"
   ]
  },
  {
   "cell_type": "markdown",
   "metadata": {
    "id": "iDKaPvKrfsGQ"
   },
   "source": [
    "### Estrategia B\n",
    "Sólo se mueve el λ% de las personas, el resto mantiene sus posiciones durante toda la simulación\n",
    "\n",
    "\n",
    "### Supuestos\n",
    "\n",
    "- El enfermo no se mueve.\n",
    "- Cuando una persona es infectada, podra infectar a los demas en el proximo instante de tiempo\n",
    "- Las medidas de gobierno tomadas no afectan en el movimiento de las personas, solo afecta a la probabilidad de infeccion.\n",
    "- Las personas recuperadas no se mueven porque no afectan a la simulacion\n",
    "- Las personas no pueden moverse si hay una persona donde se quieren mover\n"
   ]
  },
  {
   "cell_type": "code",
   "execution_count": 30,
   "metadata": {
    "executionInfo": {
     "elapsed": 1348,
     "status": "ok",
     "timestamp": 1605105816710,
     "user": {
      "displayName": "Peter Mac Gaul",
      "photoUrl": "https://lh3.googleusercontent.com/a-/AOh14GhLYB0hQJrGeKY171wH6_C_qdfdNsTGhXQR6gjvVw=s64",
      "userId": "07015997770818509519"
     },
     "user_tz": 180
    },
    "id": "KB4Fg6Gqk7zw"
   },
   "outputs": [],
   "source": [
    "def realizarSimulacion( mapa, intantesParaRecuperacion, pRecuperacion, pInmunizar, tiempoHastaConfinamiento, pSeguridad ):\n",
    "    results = []\n",
    "    instantesEnMapas = []\n",
    "    maxTime = 5000\n",
    "\n",
    "    instantesEnMapas.append( np.copy(mapa) )    \n",
    "    lista = realizarConteo(mapa)\n",
    "    results.append( lista )\n",
    "    \n",
    "    for iter in range(0, maxTime):\n",
    "        print(\"\\n----------------------------\")\n",
    "        print(\"Iteracion numero: \" + str(iter))\n",
    "        print(\"----------------------------\")\n",
    "\n",
    "        seMueveB = True if iter%2 == 0 else False\n",
    "        seMueveC = True if iter%4 == 0 else False\n",
    "\n",
    "        medidasGovierno = pSeguridad if iter > tiempoHastaConfinamiento else 0\n",
    "\n",
    "        moverPersonas( mapa, seMueveB, seMueveC, medidasGovierno, intantesParaRecuperacion, pRecuperacion, pInmunizar )\n",
    "        \n",
    "        lista = realizarConteo(mapa)\n",
    "        results.append( lista )\n",
    "\n",
    "        instantesEnMapas.append( np.copy(mapa) )\n",
    "\n",
    "        contagios = lista[1]\n",
    "\n",
    "        if contagios == 0:\n",
    "            print(\"----------------------------\")\n",
    "            print(\"No hay mas gente contagiada, intervalos de tiempo recorridos: \" + str(iter) )\n",
    "            break\n",
    "\n",
    "    return (results,instantesEnMapas)"
   ]
  },
  {
   "cell_type": "code",
   "execution_count": 31,
   "metadata": {
    "colab": {
     "base_uri": "https://localhost:8080/"
    },
    "executionInfo": {
     "elapsed": 4165,
     "status": "ok",
     "timestamp": 1605105845174,
     "user": {
      "displayName": "Peter Mac Gaul",
      "photoUrl": "https://lh3.googleusercontent.com/a-/AOh14GhLYB0hQJrGeKY171wH6_C_qdfdNsTGhXQR6gjvVw=s64",
      "userId": "07015997770818509519"
     },
     "user_tz": 180
    },
    "id": "uJbqNI2ykUv1",
    "outputId": "b6396daf-00bb-40af-c12d-34c80b49b457",
    "scrolled": true
   },
   "outputs": [],
   "source": [
    "simulacion += 1\n",
    "\n",
    "os.mkdir(str(simulacion)+\" simul\") \n",
    "os.mkdir(str(simulacion)+\" simul/map\")\n",
    "os.mkdir(str(simulacion)+\" simul/dist\")\n",
    "\n",
    "sys.stdout = open(str(simulacion)+' simul/'+str(simulacion)+\" simul.txt\", \"w\")\n",
    "\n",
    "metros = 100\n",
    "tamaño_celda = 0.4\n",
    "cant_celdas = int( metros/tamaño_celda )\n",
    "\n",
    "habitantes = 200               # N Modificable\n",
    "mapa = generarTablero( cant_celdas, habitantes )\n",
    "\n",
    "tiempoHastaConfinamiento = 300  # T Modificable\n",
    "pSeguridad = 0.15               # Modificable por conveniencia - standar 0.15\n",
    "\n",
    "intantesParaRecuperacion = 3    # Alpha Modificable\n",
    "pRecuperacion = 0.4             # Beta Modificable\n",
    "pInmunizar = 0.4               # Supuesto Modificable \n",
    "\n",
    "print(\"\\n----------------------------\")\n",
    "print(\"--------- VARIABLES --------\")\n",
    "print(\"----------------------------\")\n",
    "\n",
    "print('habitantes: \\t {:f}'.format(habitantes))\n",
    "print('tiempoHastaConfinamiento: \\t {:f}'.format(tiempoHastaConfinamiento))\n",
    "print('pSeguridad: \\t {:f}'.format(pSeguridad))\n",
    "print('intantesParaRecuperacion: \\t {:f}'.format(intantesParaRecuperacion))\n",
    "print('pRecuperacion: \\t {:f}'.format(pRecuperacion))\n",
    "print('pInmunizar: \\t {:f}'.format(pInmunizar))\n",
    "print(\"----------------------------\\n\")\n",
    "\n",
    "results = realizarSimulacion(mapa, intantesParaRecuperacion, pRecuperacion, pInmunizar, tiempoHastaConfinamiento, pSeguridad )\n",
    "\n",
    "A = results[0]\n",
    "C = results[1]\n",
    "B = []"
   ]
  },
  {
   "cell_type": "markdown",
   "metadata": {},
   "source": [
    "## Sanatizo el set de datos generados\n",
    "Para afectar lo menor posible en el rendimiento de la generacion de los graficos"
   ]
  },
  {
   "cell_type": "code",
   "execution_count": 32,
   "metadata": {
    "executionInfo": {
     "elapsed": 8219,
     "status": "ok",
     "timestamp": 1605105850205,
     "user": {
      "displayName": "Peter Mac Gaul",
      "photoUrl": "https://lh3.googleusercontent.com/a-/AOh14GhLYB0hQJrGeKY171wH6_C_qdfdNsTGhXQR6gjvVw=s64",
      "userId": "07015997770818509519"
     },
     "user_tz": 180
    },
    "id": "idIfR_L7fsGW"
   },
   "outputs": [],
   "source": [
    "for x in C:\n",
    "    df = pd.DataFrame( data = x )\n",
    "\n",
    "    df = df.replace([\"A\",\"B\",\"C\"],\"Poblacion sana\")\n",
    "\n",
    "    values = []\n",
    "\n",
    "    xValues = []\n",
    "    \n",
    "    for x in pd.unique(df.values.ravel()):\n",
    "        if \"X\" in x:\n",
    "            xValues.append(x) \n",
    "\n",
    "    df = df.replace(xValues,\"Pobracion contagiada\")\n",
    "    df = df.replace(\"R\",\"Pobracion inmunizada\")\n",
    "    \n",
    "    B.append(df.copy())"
   ]
  },
  {
   "cell_type": "markdown",
   "metadata": {
    "id": "F88mqAg2-qhu"
   },
   "source": [
    "## Graficos"
   ]
  },
  {
   "cell_type": "code",
   "execution_count": 33,
   "metadata": {
    "colab": {
     "base_uri": "https://localhost:8080/",
     "height": 518
    },
    "executionInfo": {
     "elapsed": 48665,
     "status": "ok",
     "timestamp": 1605104630796,
     "user": {
      "displayName": "Peter Mac Gaul",
      "photoUrl": "https://lh3.googleusercontent.com/a-/AOh14GhLYB0hQJrGeKY171wH6_C_qdfdNsTGhXQR6gjvVw=s64",
      "userId": "07015997770818509519"
     },
     "user_tz": 180
    },
    "id": "0Kz2RgymCs0A",
    "outputId": "f5279021-dcd3-4573-8d7b-dd097c734ed7",
    "scrolled": true
   },
   "outputs": [],
   "source": [
    "def plotDistribAnimation(i):\n",
    "    lista = A[:i+1]\n",
    "\n",
    "    sns.set_theme()\n",
    "    plt.figure(figsize=(15, 8))\n",
    "\n",
    "    df2 = pd.DataFrame(lista)\n",
    "\n",
    "    df2.columns = [\"Habitantes sanos\",\"Habitantes contagiados\",\"Habitantes inmunizados\", \"Habitantes sin virus\"]\n",
    "\n",
    "    ax = sns.lineplot(data = df2)\n",
    "    \n",
    "    ax.set_xlim(0, i)\n",
    "\n",
    "    ax.set_title('Poblacion en el momento: ' + str(i) )                                           \n",
    "    ax.set_xlabel('Momento de tiempo')                                           \n",
    "    ax.set_ylabel('Cantidad de personas')                                           \n",
    "    plt.savefig(str(simulacion)+' simul/dist/'+str(i)+' dist.png')\n",
    "\n",
    "    plt.show()\n",
    "    clear_output(wait=True)"
   ]
  },
  {
   "cell_type": "code",
   "execution_count": null,
   "metadata": {},
   "outputs": [],
   "source": [
    "for i in range( len(A) ):\n",
    "    plotDistribAnimation(i)"
   ]
  },
  {
   "cell_type": "code",
   "execution_count": 34,
   "metadata": {
    "colab": {
     "base_uri": "https://localhost:8080/",
     "height": 640
    },
    "executionInfo": {
     "elapsed": 36601,
     "status": "ok",
     "timestamp": 1605106505879,
     "user": {
      "displayName": "Peter Mac Gaul",
      "photoUrl": "https://lh3.googleusercontent.com/a-/AOh14GhLYB0hQJrGeKY171wH6_C_qdfdNsTGhXQR6gjvVw=s64",
      "userId": "07015997770818509519"
     },
     "user_tz": 180
    },
    "id": "VAn_-9RU_3fS",
    "outputId": "9fffabbf-4e26-4535-f0a9-44a092b4efdd"
   },
   "outputs": [],
   "source": [
    "def plotHeatmapAnimation(i):\n",
    "    \n",
    "    df = B[i]\n",
    "\n",
    "    plt.figure(figsize=(15, 8))\n",
    "\n",
    "    values = sorted(pd.unique(df.values.ravel()))\n",
    "\n",
    "    value_to_int = {j:i for i,j in enumerate(values)}\n",
    "   \n",
    "    n = 1    \n",
    "    colors = [\"black\"]\n",
    "    \n",
    "    if 'Poblacion sana' in values:\n",
    "        colors.append(\"lime\")   \n",
    "        n += 1\n",
    "\n",
    "    if 'Pobracion contagiada' in values:\n",
    "        colors.append(\"red\")\n",
    "        n += 1\n",
    "\n",
    "    if 'Pobracion inmunizada' in values:\n",
    "        colors.append(\"blue\")\n",
    "        n += 1\n",
    "\n",
    "    cmap = sns.color_palette( tuple(colors), n)\n",
    "        \n",
    "    ax = sns.heatmap(df.replace(value_to_int), cmap=cmap) \n",
    "\n",
    "    # modify colorbar:\n",
    "    colorbar = ax.collections[0].colorbar \n",
    "    r = colorbar.vmax - colorbar.vmin \n",
    "    colorbar.set_ticks( [colorbar.vmin + r / n * (0.5 + i) for i in range(n)] )\n",
    "    colorbar.set_ticklabels( values )   \n",
    "\n",
    "    ax.set_title('Mapa en el momento: ' + str(i) )   \n",
    "    ax.set(yticks=[],xticks=[])\n",
    "\n",
    "    plt.savefig(str(simulacion)+' simul/map/'+str(i)+' map.png')\n",
    "\n",
    "    plt.show()\n",
    "    clear_output(wait=True)"
   ]
  },
  {
   "cell_type": "code",
   "execution_count": 35,
   "metadata": {},
   "outputs": [
    {
     "data": {
      "image/png": "[encoded data removed]",
      "text/plain": [
       "<Figure size 1080x576 with 2 Axes>"
      ]
     },
     "metadata": {},
     "output_type": "display_data"
    }
   ],
   "source": [
    "for i in range( len(B) ):\n",
    "    plotHeatmapAnimation(i)"
   ]
  },
  {
   "cell_type": "markdown",
   "metadata": {
    "id": "CcCzpnAO5djq"
   },
   "source": [
    "# Simulacion 2"
   ]
  },
  {
   "cell_type": "markdown",
   "metadata": {
    "id": "iDKaPvKrfsGQ"
   },
   "source": [
    "### Estrategia A\n",
    "Todos los individuos de la población se mueven sin restricciones dentro del área.\n",
    "\n",
    "\n",
    "### Supuestos\n",
    "\n",
    "- La persona enferma y recuperada se mueven todo el tiempo.\n",
    "- Cuando una persona es infectada, podra infectar a los demas en el proximo instante de tiempo\n",
    "- Las personas no pueden moverse si hay una persona donde se quieren mover\n",
    "- Las personas sanas, son las unicas que tienen una restriccion para moverse, cada 1/2/4 turnos"
   ]
  },
  {
   "cell_type": "code",
   "execution_count": 41,
   "metadata": {},
   "outputs": [],
   "source": [
    "def moverPersonas( tablero, seMueveB, seMueveC, medidasGovierno, recuperacion, pRecuperacion, pInmunizar ):\n",
    "    \"\"\"Recorro el tablero moviendo a las personas de manera random y buscando las zonas de contagio\"\"\"    \n",
    "    for i in range(0,len(tablero)):\n",
    "        for j in range(0,len(tablero[i])):\n",
    "\n",
    "            if tablero[i][j] == \"-\":\n",
    "                continue\n",
    "            if tablero[i][j] == \"B\" and not seMueveB :\n",
    "                continue\n",
    "            if tablero[i][j] == \"C\" and not seMueveC :\n",
    "                continue\n",
    "\n",
    "            r = np.random.random()\n",
    "            \n",
    "            movimiento = randomWalk(r)\n",
    "            x,y = reemplazar(tablero, i, j, movimiento, tablero[i][j])            \n",
    "                \n",
    "                \n",
    "            if tablero[x][y][0] == 'X':\n",
    "                    \n",
    "                instante = int( tablero[x][y][1:] )\n",
    "\n",
    "                if instante >= 0:\n",
    "                    contagiarPersonas( tablero, x, y, medidasGovierno )\n",
    "\n",
    "                instante += 1\n",
    "\n",
    "                tablero[x][y] = \"X\"+ str(instante)\n",
    "                \n",
    "                if instante >= recuperacion:                    \n",
    "                    if r < pRecuperacion:\n",
    "                        darDeAlta( tablero, x, y, pInmunizar )\n",
    "                "
   ]
  },
  {
   "cell_type": "code",
   "execution_count": 42,
   "metadata": {
    "colab": {
     "base_uri": "https://localhost:8080/"
    },
    "executionInfo": {
     "elapsed": 4165,
     "status": "ok",
     "timestamp": 1605105845174,
     "user": {
      "displayName": "Peter Mac Gaul",
      "photoUrl": "https://lh3.googleusercontent.com/a-/AOh14GhLYB0hQJrGeKY171wH6_C_qdfdNsTGhXQR6gjvVw=s64",
      "userId": "07015997770818509519"
     },
     "user_tz": 180
    },
    "id": "uJbqNI2ykUv1",
    "outputId": "b6396daf-00bb-40af-c12d-34c80b49b457",
    "scrolled": true
   },
   "outputs": [],
   "source": [
    "simulacion += 1\n",
    "\n",
    "os.mkdir(str(simulacion)+\" simul\") \n",
    "os.mkdir(str(simulacion)+\" simul/map\")\n",
    "os.mkdir(str(simulacion)+\" simul/dist\")\n",
    "\n",
    "sys.stdout = open(str(simulacion)+' simul/'+str(simulacion)+\" simul.txt\", \"w\")\n",
    "\n",
    "metros = 100\n",
    "tamaño_celda = 0.4\n",
    "cant_celdas = int( metros/tamaño_celda )\n",
    "\n",
    "habitantes = 2000               # N Modificable\n",
    "mapa = generarTablero( cant_celdas, habitantes )\n",
    "\n",
    "tiempoHastaConfinamiento = 300  # T Modificable\n",
    "pSeguridad = 0.15               # Modificable por conveniencia - standar 0.15\n",
    "\n",
    "intantesParaRecuperacion = 3    # Alpha Modificable\n",
    "pRecuperacion = 0.4             # Beta Modificable\n",
    "pInmunizar = 0.4               # Supuesto modificable \n",
    "\n",
    "print(\"\\n----------------------------\")\n",
    "print(\"--------- VARIABLES --------\")\n",
    "print(\"----------------------------\")\n",
    "\n",
    "print('habitantes: \\t {:f}'.format(habitantes))\n",
    "print('tiempoHastaConfinamiento: \\t {:f}'.format(tiempoHastaConfinamiento))\n",
    "print('pSeguridad: \\t {:f}'.format(pSeguridad))\n",
    "print('intantesParaRecuperacion: \\t {:f}'.format(intantesParaRecuperacion))\n",
    "print('pRecuperacion: \\t {:f}'.format(pRecuperacion))\n",
    "print('pInmunizar: \\t {:f}'.format(pInmunizar))\n",
    "print(\"----------------------------\\n\")\n",
    "\n",
    "results = realizarSimulacion(mapa, intantesParaRecuperacion, pRecuperacion, pInmunizar, tiempoHastaConfinamiento, pSeguridad )\n",
    "\n",
    "A = results[0]\n",
    "C = results[1]\n",
    "B = []"
   ]
  },
  {
   "cell_type": "markdown",
   "metadata": {},
   "source": [
    "## Sanatizo el set de datos generados\n",
    "Para afectar lo menor posible en el rendimiento de la generacion de los graficos"
   ]
  },
  {
   "cell_type": "code",
   "execution_count": 43,
   "metadata": {},
   "outputs": [],
   "source": [
    "for x in C:\n",
    "    df = pd.DataFrame( data = x )\n",
    "\n",
    "    df = df.replace([\"A\",\"B\",\"C\"],\"Poblacion sana\")\n",
    "\n",
    "    values = []\n",
    "\n",
    "    xValues = []\n",
    "    \n",
    "    for x in pd.unique(df.values.ravel()):\n",
    "        if \"X\" in x:\n",
    "            xValues.append(x) \n",
    "\n",
    "    df = df.replace(xValues,\"Pobracion contagiada\")\n",
    "    df = df.replace(\"R\",\"Pobracion inmunizada\")\n",
    "    \n",
    "    B.append(df.copy())"
   ]
  },
  {
   "cell_type": "code",
   "execution_count": 44,
   "metadata": {},
   "outputs": [
    {
     "data": {
      "image/png": "[encoded data removed]",
      "text/plain": [
       "<Figure size 1080x576 with 2 Axes>"
      ]
     },
     "metadata": {},
     "output_type": "display_data"
    }
   ],
   "source": [
    "for i in range( len(B) ):\n",
    "    plotHeatmapAnimation(i)"
   ]
  },
  {
   "cell_type": "code",
   "execution_count": 45,
   "metadata": {},
   "outputs": [
    {
     "data": {
      "image/png": "[encoded data removed]",
      "text/plain": [
       "<Figure size 1080x576 with 1 Axes>"
      ]
     },
     "metadata": {},
     "output_type": "display_data"
    }
   ],
   "source": [
    "for i in range( len(A) ):\n",
    "    plotDistribAnimation(i)"
   ]
  },
  {
   "cell_type": "markdown",
   "metadata": {
    "id": "qPMUj3r1s79h"
   },
   "source": [
    "# Funciones auxiliares"
   ]
  },
  {
   "cell_type": "code",
   "execution_count": 63,
   "metadata": {
    "id": "aGfE1Iy7ybnk"
   },
   "outputs": [],
   "source": [
    "def plotHeatMap(mapa, iter):\n",
    "    df = pd.DataFrame( data=mapa )\n",
    "\n",
    "    df = df.replace([\"A\",\"B\",\"C\"],\"H\")\n",
    "\n",
    "    values = []\n",
    "\n",
    "    xValues = []\n",
    "    for x in pd.unique(df.values.ravel()):\n",
    "        if \"X\" in x:\n",
    "            xValues.append(x) \n",
    "\n",
    "    df = df.replace(xValues,\"X\")\n",
    "\n",
    "    plt.figure(figsize=(20, 10))\n",
    "\n",
    "    values = sorted(pd.unique(df.values.ravel()))\n",
    "\n",
    "    value_to_int = {j:i for i,j in enumerate(values)}\n",
    "\n",
    "    n = len(pd.unique(df.replace(value_to_int).values.ravel()))     \n",
    "\n",
    "    # discrete colormap (n samples from a given cmap)\n",
    "    if \"R\" in values:\n",
    "        cmap = sns.color_palette((\"black\",\"lime\",\"blue\",\"red\"), n) \n",
    "    else:\n",
    "        cmap = sns.color_palette((\"black\",\"lime\",\"red\"), n)\n",
    "        \n",
    "    ax = sns.heatmap(df.replace(value_to_int), cmap=cmap) \n",
    "\n",
    "    # modify colorbar:\n",
    "    colorbar = ax.collections[0].colorbar \n",
    "    r = colorbar.vmax - colorbar.vmin \n",
    "    colorbar.set_ticks( [colorbar.vmin + r / n * (0.5 + i) for i in range(n)] )\n",
    "    colorbar.set_ticklabels( values )   \n",
    "\n",
    "    ax.set_title('Mapa en el momento i: ' + str(iter) )\n",
    "    ax.set(yticks=[],xticks=[])\n",
    "    plt.show()"
   ]
  },
  {
   "cell_type": "code",
   "execution_count": 20,
   "metadata": {
    "id": "M8EShuz0p1jK"
   },
   "outputs": [],
   "source": [
    "def plotResults(lista, iters):\n",
    "    sns.set_theme()\n",
    "    plt.figure(figsize=(15, 8))\n",
    "\n",
    "    df2 = pd.DataFrame(lista)\n",
    "\n",
    "    df2.columns = [\"Habitantes sanos\",\"Habitantes contagiados\",\"Habitantes inmunizados\", \"Habitantes sin virus\"]\n",
    "\n",
    "    ax = sns.lineplot(data = df2)\n",
    "    \n",
    "    ax.set_xlim(0, iters)\n",
    "\n",
    "    ax.set_title('Mapa en el momento i: ' + str(iters) )                                           \n",
    "    ax.set_ylabel('Momento de tiempo')                                           \n",
    "    ax.set_xlabel('Cantidad de personas')\n",
    "    clear_output(wait=True)\n"
   ]
  },
  {
   "cell_type": "code",
   "execution_count": null,
   "metadata": {},
   "outputs": [],
   "source": []
  }
 ],
 "metadata": {
  "colab": {
   "collapsed_sections": [
    "qPMUj3r1s79h"
   ],
   "name": "asd.ipynb",
   "provenance": [],
   "toc_visible": true
  },
  "kernelspec": {
   "display_name": "Python 3",
   "language": "python",
   "name": "python3"
  },
  "language_info": {
   "codemirror_mode": {
    "name": "ipython",
    "version": 3
   },
   "file_extension": ".py",
   "mimetype": "text/x-python",
   "name": "python",
   "nbconvert_exporter": "python",
   "pygments_lexer": "ipython3",
   "version": "3.8.5"
  }
 },
 "nbformat": 4,
 "nbformat_minor": 1
}
